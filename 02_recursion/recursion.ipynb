{
 "cells": [
  {
   "cell_type": "markdown",
   "metadata": {},
   "source": [
    "## **Recursión**"
   ]
  },
  {
   "cell_type": "markdown",
   "metadata": {},
   "source": [
    "### **Introducción a la Recursión**"
   ]
  },
  {
   "cell_type": "code",
   "execution_count": null,
   "metadata": {},
   "outputs": [],
   "source": [
    "def sumatoria(n: int) -> int:\n",
    "    if n < 1:\n",
    "        raise ValueError(f'Se recibe {n}, n debe ser mayor a 0')\n",
    "    elif n == 1:\n",
    "        return 1\n",
    "    else:\n",
    "        return sumatoria(n-1) + n\n",
    "\n",
    "sumatoria(10)   # 55\n",
    "sumatoria(-2)   # ValueError: Se recibe -2, n debe ser mayor a 0"
   ]
  },
  {
   "cell_type": "markdown",
   "metadata": {},
   "source": [
    "#### **Recursión simple**\n",
    "Existe una única referencia recursiva, nos estamos apoyando en la pila de ejecución para almacenar las variables locales, punteros de retorno, etc."
   ]
  },
  {
   "cell_type": "code",
   "execution_count": 6,
   "metadata": {},
   "outputs": [
    {
     "name": "stdout",
     "output_type": "stream",
     "text": [
      "120\n"
     ]
    }
   ],
   "source": [
    "def factorial(n: int) -> int:\n",
    "    if n <= 1:\n",
    "        return 1\n",
    "    else:\n",
    "        return factorial(n-1) * n\n",
    "    \n",
    "print(factorial(5))"
   ]
  },
  {
   "cell_type": "markdown",
   "metadata": {},
   "source": [
    "#### **Recursión múltiple**\n",
    "Existe más de una referencia recursiva, por ejemplo doble o triple. En general es muy ineficiente ya que se genera un árbol de invocaciones donde existen evaluaciones repetidas."
   ]
  },
  {
   "cell_type": "code",
   "execution_count": null,
   "metadata": {},
   "outputs": [],
   "source": [
    "def fibonacci(n: int) -> int:\n",
    "    if n <= 1:\n",
    "        return n\n",
    "    else:\n",
    "        return fibonacci(n-1) + fibonacci(n-2)"
   ]
  },
  {
   "cell_type": "code",
   "execution_count": null,
   "metadata": {},
   "outputs": [],
   "source": [
    "# Veamos un ejemplo para optimizar el caso de fibonacci.\n",
    "\n",
    "def fibonacci(n: int) -> int:\n",
    "    calculados = {}\n",
    "\n",
    "    def fibo_interna(n: int) -> int:\n",
    "        if n < 0:\n",
    "            raise ValueError('n debe ser mayor o igual a 0')\n",
    "        if n <= 1:\n",
    "            return n\n",
    "        if n not in calculados:\n",
    "            calculados[n] = fibo_interna(n-1) + fibo_interna(n-2) # sólo se evalúa una vez cada número\n",
    "        return calculados[n]\n",
    "  \n",
    "    return fibo_interna(n)"
   ]
  },
  {
   "cell_type": "markdown",
   "metadata": {},
   "source": [
    "#### **Recursión de indirecta**\n",
    "La referencia a sí misma se realiza mediante intermediarios."
   ]
  },
  {
   "cell_type": "code",
   "execution_count": 7,
   "metadata": {},
   "outputs": [
    {
     "name": "stdout",
     "output_type": "stream",
     "text": [
      "True\n",
      "False\n",
      "False\n",
      "True\n"
     ]
    }
   ],
   "source": [
    "# Ejemplo de indirecta mutua\n",
    "\n",
    "def es_par(n: int) -> bool:\n",
    "  return n == 0 or es_impar(n - 1)\n",
    "\n",
    "def es_impar(n: int) -> bool:\n",
    "  return False if n == 0 else es_par(n - 1)\n",
    "\n",
    "print(es_par(10))   # True\n",
    "print(es_par(9))    # False\n",
    "print(es_impar(4))  # False\n",
    "print(es_impar(7))  # True"
   ]
  },
  {
   "cell_type": "markdown",
   "metadata": {},
   "source": [
    "#### **Recursión implícita**\n",
    "Cuando la referencia está implícita en algún bloque invocado o elemento que lo compone."
   ]
  },
  {
   "cell_type": "code",
   "execution_count": 1,
   "metadata": {},
   "outputs": [],
   "source": [
    "def mostrar_paridad(n: int) -> None:\n",
    "    if es_par(n):\n",
    "        print(f'{n} es par')\n",
    "    else:\n",
    "        print(f'{n} es impar')"
   ]
  },
  {
   "cell_type": "markdown",
   "metadata": {},
   "source": [
    "## **Formas de recursión en operaciones**\n"
   ]
  },
  {
   "cell_type": "markdown",
   "metadata": {},
   "source": [
    "#### **Recursión de pila**\n",
    "\n",
    "Aquella que sucede cuando en el caso recursivo **nos quedan operaciones pendientes por hacer luego de la invocación recursiva**. Veamos una estructura genérica de la recursión de pila:"
   ]
  },
  {
   "cell_type": "markdown",
   "metadata": {},
   "source": [
    "        funcion resolver(problema)\n",
    "            si problema es simple entonces\n",
    "                devolver solucion\n",
    "            sino\n",
    "                dividir problema en subproblema1..N\n",
    "                resolver(subproblema1)  # <- primera invocación recursiva\n",
    "                resolver(subproblema2)\n",
    "                ..\n",
    "                resolver(subproblemaN)\n",
    "                combinar_soluciones\n",
    "                devolver solución\n",
    "            finSi\n",
    "        finFuncion"
   ]
  },
  {
   "cell_type": "markdown",
   "metadata": {},
   "source": [
    "#### **Recursión de cola**\n",
    "\n",
    "Aquella que sucede cuando **la última sentencia del caso recursivo es la invocación recursiva**."
   ]
  },
  {
   "cell_type": "code",
   "execution_count": null,
   "metadata": {},
   "outputs": [],
   "source": [
    "# Suele usarse un acumulador\n",
    "\n",
    "def factorial(n: int) -> int:\n",
    "    def factorial_interna(n: int, acumulador: int) -> int:\n",
    "        if n <= 1:\n",
    "            return acumulador\n",
    "        else:\n",
    "            resultado_parcial = acumulador * n  # La construcción de la solución se realiza antes\n",
    "            return factorial_interna(n-1, resultado_parcial) # Se pasa como argumento a la recursión\n",
    "    return factorial_interna(n, 1)"
   ]
  },
  {
   "cell_type": "markdown",
   "metadata": {},
   "source": [
    "##### **Recursión de cola -> Iteración**\n",
    "\n",
    "Lo más ventajoso de la recursión de cola es que podemos definirla como una iteración, veamos un estructura de diseño general de la recursión de cola:"
   ]
  },
  {
   "cell_type": "markdown",
   "metadata": {},
   "source": [
    "        funcion resolver(problema)\n",
    "            si problema es simple entonces\n",
    "                devolver solucion_final\n",
    "            sino\n",
    "                reducir tamaño_del_problema\n",
    "                computar solución_parcial\n",
    "                devolver resolver(subproblema)\n",
    "            finSi\n",
    "        finFuncion"
   ]
  },
  {
   "cell_type": "code",
   "execution_count": null,
   "metadata": {},
   "outputs": [],
   "source": [
    "# Ejemplo del factorial con iteración\n",
    "\n",
    "def factorial(n: int) -> int:\n",
    "    solucion = 1\n",
    "    while n > 1:\n",
    "        solucion *= n\n",
    "        n -= 1\n",
    "    return solucion"
   ]
  },
  {
   "cell_type": "markdown",
   "metadata": {},
   "source": [
    "##### **Eliminando la recursión**\n",
    "\n",
    "- Mediante un *acumulador*, aunque no siempre podemos, por ejemplo:"
   ]
  },
  {
   "cell_type": "code",
   "execution_count": null,
   "metadata": {},
   "outputs": [],
   "source": [
    "# Recursión de pila \n",
    "\n",
    "def resta_lista(xs: list[int]) -> int:\n",
    "    if xs == []:\n",
    "        return 0\n",
    "    else:\n",
    "        return xs[0] - resta_lista(xs[1:])\n",
    "\n",
    "resta_lista([10, 2, 5, 9])   # (10 - (2 - (5 - 9)) = 4\n",
    "print(resta_lista([10, 2, 5, 9]))"
   ]
  },
  {
   "cell_type": "code",
   "execution_count": null,
   "metadata": {},
   "outputs": [],
   "source": [
    "# Recursión de cola\n",
    "\n",
    "def resta_lista(xs: list[int]) -> int:\n",
    "    def resta_lista_interna(xs: list[int], acumulador: int) -> int:\n",
    "        if xs == []:\n",
    "            return acumulador\n",
    "        else:\n",
    "            return resta_lista_interna(xs[1:], acumulador - xs[0])\n",
    "    return 0 if xs == [] else resta_lista_interna(xs[1:], xs[0])\n",
    "\n",
    "resta_lista([10, 2, 5, 9]) # ((10 - 2) - 5) - 9) = -6\n",
    "print(resta_lista([10, 2, 5, 9]))"
   ]
  },
  {
   "cell_type": "markdown",
   "metadata": {},
   "source": [
    "Observemos que los resultados de las funciones no coinciden, por más de que buscan hacer lo mismo, porque la resta no se computa de la misma forma. En este caso no podemos utilizar la estrategia del acumulador."
   ]
  },
  {
   "cell_type": "markdown",
   "metadata": {},
   "source": [
    "- Utilizando pila explícita: Creamos nuestra propia *Stack*"
   ]
  },
  {
   "cell_type": "markdown",
   "metadata": {},
   "source": [
    "En general este tipo de conversión se realiza con dos pasos:\n",
    "1- Se apilan las instancias de problemas reducidos (similar a como se hace naturalmente con la pila de ejecución) -> apilado(), que recibe una lista vacía y la carga con cada elemento de la lista.\n",
    "2- Se establece la vuelta atrás de la recursión -> desapilado(), se recibe la lista cargada y se desapila realizando los cálculos pendientes.\n",
    "Ambas funciones internas con recursiones de cola."
   ]
  },
  {
   "cell_type": "code",
   "execution_count": 3,
   "metadata": {},
   "outputs": [
    {
     "data": {
      "text/plain": [
       "4"
      ]
     },
     "execution_count": 3,
     "metadata": {},
     "output_type": "execute_result"
    }
   ],
   "source": [
    "def resta_lista(xs: list[int]) -> int:\n",
    "    def apilado(xs: list[int], pila: list[int]):\n",
    "        if xs != []:\n",
    "            pila.append(xs[0])\n",
    "            apilado(xs[1:], pila)\n",
    "\n",
    "    def desapilado(pila: list[int], acumulador: int) -> int:\n",
    "        if pila == []:\n",
    "            return acumulador\n",
    "        else:\n",
    "            return desapilado(pila, pila.pop() - acumulador)\n",
    "      \n",
    "    pila = []\n",
    "    apilado(xs, pila)\n",
    "    return desapilado(pila, 0)\n",
    "\n",
    "resta_lista([10, 2, 5, 9]) # (10 - (2 - (5 - 9)) = 4"
   ]
  }
 ],
 "metadata": {
  "kernelspec": {
   "display_name": "Python 3",
   "language": "python",
   "name": "python3"
  },
  "language_info": {
   "codemirror_mode": {
    "name": "ipython",
    "version": 3
   },
   "file_extension": ".py",
   "mimetype": "text/x-python",
   "name": "python",
   "nbconvert_exporter": "python",
   "pygments_lexer": "ipython3",
   "version": "3.11.0"
  }
 },
 "nbformat": 4,
 "nbformat_minor": 2
}
