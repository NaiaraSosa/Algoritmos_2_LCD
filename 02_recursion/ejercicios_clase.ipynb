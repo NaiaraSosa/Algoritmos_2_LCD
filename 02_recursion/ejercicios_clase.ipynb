{
 "cells": [
  {
   "cell_type": "markdown",
   "metadata": {},
   "source": [
    "## **Ejercicios clase**"
   ]
  },
  {
   "cell_type": "markdown",
   "metadata": {},
   "source": [
    "1) **Potencia**\n",
    "\n",
    "Implementá una función para calcular la potencia dados dos números enteros, el primero representa la base y el segundo exponente."
   ]
  },
  {
   "cell_type": "code",
   "execution_count": null,
   "metadata": {},
   "outputs": [],
   "source": [
    "def potencia(nro_base: int, nro_exponente: int) -> int:\n",
    "    if nro_exponente < 0:\n",
    "        raise ValueError(\"El exponente debe ser un número entero no negativo\")\n",
    "    if nro_exponente == 0:\n",
    "        return 1\n",
    "    return nro_base * potencia(nro_base, nro_exponente - 1)\n",
    "\n",
    "# Ejemplo de uso:\n",
    "print(potencia(2, 3))  # Salida: 8\n",
    "print(potencia(5, 0))  # Salida: 1\n",
    "print(potencia(3, -2)) # Generará un ValueError"
   ]
  },
  {
   "cell_type": "markdown",
   "metadata": {},
   "source": [
    "2) **Caracteres**\n",
    "\n",
    "Dada una secuencia de caracteres, obtener dicha secuencia invertida."
   ]
  },
  {
   "cell_type": "code",
   "execution_count": null,
   "metadata": {},
   "outputs": [],
   "source": [
    "def invertir(secuencia: str) -> str:\n",
    "    if len(secuencia) == 0:\n",
    "        return''\n",
    "    else:\n",
    "        return secuencia[-1] + invertir(secuencia[:-1])\n",
    "    \n",
    "cadena_invertida = invertir(\"Hola\")\n",
    "print(cadena_invertida)"
   ]
  },
  {
   "cell_type": "markdown",
   "metadata": {},
   "source": [
    "3) **Suma y Resta** \n",
    "\n",
    "Implementar dos funciones mutuamente recursivas que realicen la suma y resta de los elementos de una lista de manera alterna. Es decir, la primera función debe sumar el primer elemento, restar el segundo, sumar el tercero y asi sucesivamente. La segunda función debe realizar la operación opuesta. "
   ]
  },
  {
   "cell_type": "code",
   "execution_count": 4,
   "metadata": {},
   "outputs": [
    {
     "name": "stdout",
     "output_type": "stream",
     "text": [
      "1\n"
     ]
    }
   ],
   "source": [
    "# ARREGLAR\n",
    "\n",
    "def suma_resta_alternada(lista_numeros: list[int]) -> int:\n",
    "    def suma_interna(lista_numeros: list[int], indice: int) -> int:\n",
    "        if indice >= len(lista_numeros):\n",
    "            return 0\n",
    "        else:\n",
    "            return lista_numeros[indice] - resta_interna(lista_numeros, indice + 1)\n",
    "\n",
    "    def resta_interna(lista_numeros: list[int], indice: int) -> int:\n",
    "        if indice >= len(lista_numeros):\n",
    "            return 0\n",
    "        else:\n",
    "            return lista_numeros[indice] + suma_interna(lista_numeros, indice + 1)\n",
    "\n",
    "    return lista_numeros[0] + suma_interna(lista_numeros, 1)\n",
    "\n",
    "lista_numeros = [1,2,3,4,5]\n",
    "print(suma_resta_alternada(lista_numeros))"
   ]
  },
  {
   "cell_type": "code",
   "execution_count": 5,
   "metadata": {},
   "outputs": [
    {
     "name": "stdout",
     "output_type": "stream",
     "text": [
      "1\n"
     ]
    }
   ],
   "source": [
    "# Repetir con recursión de cola ARREGLAR\n",
    "\n",
    "def suma_resta_alternada(lista: list[int]) -> int:\n",
    "    def suma_alterna(lista: list[int], acumulador: int) -> int:\n",
    "        if not lista:\n",
    "            return 0\n",
    "        else:\n",
    "            return lista[0] - resta_alterna(lista[1:], acumulador + lista[0])\n",
    "        \n",
    "    def resta_alterna(lista: list[int], acumulador: int) -> int:\n",
    "        if not lista:\n",
    "            return 0\n",
    "        else:\n",
    "            return lista[0] + suma_alterna(lista[1:], acumulador + lista[0])\n",
    "    return lista[0] + suma_alterna(lista[1:], 0)\n",
    "\n",
    "lista_numeros = [1,2,3,4,5]\n",
    "print(suma_resta_alternada(lista_numeros))"
   ]
  },
  {
   "cell_type": "markdown",
   "metadata": {},
   "source": [
    "4) **Cociente y Resto**\n",
    "\n",
    "Definir funciones recursivas cociente y resto que, apartir de dos numeros enteros retorne el cociente y el resto entre ellos respectivamente, a partir de la técnica de restas sucesivas."
   ]
  },
  {
   "cell_type": "code",
   "execution_count": 6,
   "metadata": {},
   "outputs": [
    {
     "name": "stdout",
     "output_type": "stream",
     "text": [
      "4\n",
      "1\n"
     ]
    }
   ],
   "source": [
    "# Cuantas veces entra nro2 en nro1 ARREGLAR\n",
    "def cociente(dividendo: int, divisor: int) -> int: \n",
    "    if dividendo < divisor:\n",
    "        return 0\n",
    "    else:\n",
    "        return 1 + cociente(dividendo - divisor, divisor)\n",
    "\n",
    "def resto(dividendo: int, divisor: int) -> int:\n",
    "    if dividendo < nro_2:\n",
    "        return dividendo\n",
    "    else:\n",
    "        return resto(dividendo - divisor, divisor)\n",
    "\n",
    "nro_1 = 17\n",
    "nro_2 = 4\n",
    "print(cociente(nro_1, nro_2))  \n",
    "print(resto(nro_1, nro_2))     "
   ]
  },
  {
   "cell_type": "markdown",
   "metadata": {},
   "source": [
    "5) **Pan Queso**"
   ]
  },
  {
   "cell_type": "code",
   "execution_count": 7,
   "metadata": {},
   "outputs": [
    {
     "name": "stdout",
     "output_type": "stream",
     "text": [
      "Juego sin comenzar\n",
      "Gano player Player(nombre='Juana', pata_cm=33.6)\n"
     ]
    }
   ],
   "source": [
    "from dataclasses import dataclass\n",
    "\n",
    "@dataclass\n",
    "class Player:\n",
    "    nombre: str\n",
    "    pata_cm: float\n",
    "    \n",
    "    def dar_paso(self, distancia_inicial: float) -> float:\n",
    "        return distancia_inicial - self.pata_cm\n",
    "    \n",
    "class PanQueso:\n",
    "    def __init__(self, jug1: Player, jug2: Player, distancia: float):\n",
    "        self.jug1 = jug1\n",
    "        self.jug2 = jug2\n",
    "        if distancia < 0:\n",
    "            raise ValueError('La distancia debe ser mayor a 0')\n",
    "        self.distancia = distancia\n",
    "        self.gana = None\n",
    "\n",
    "    def jugar(self):\n",
    "        self.jugar_jug1()\n",
    "\n",
    "    def jugar_jug1(self):\n",
    "        if self.distancia < self.jug1.pata_cm:\n",
    "            self.gana = self.jug1\n",
    "        else:\n",
    "            self.distancia -= self.jug1.pata_cm\n",
    "            self.jugar_jug2()\n",
    "\n",
    "    def jugar_jug2(self):\n",
    "        if self.distancia < self.jug2.pata_cm:\n",
    "            self.gana = self.jug2\n",
    "        else:\n",
    "            self.distancia -= self.jug2.pata_cm\n",
    "            self.jugar_jug1()\n",
    "\n",
    "    def resultado(self) -> str:\n",
    "        if self.gana is None:\n",
    "            return 'Juego sin comenzar'\n",
    "        else:\n",
    "            return f'Gano player {self.gana}'\n",
    "\n",
    "if __name__ == '__main__':\n",
    "    juana = Player('Juana', 33.6)\n",
    "    laura = Player('Laura', 22.5)\n",
    "\n",
    "    juego = PanQueso(juana, laura, 355)\n",
    "    print(juego.resultado())\n",
    "    juego.jugar()\n",
    "    print(juego.resultado())"
   ]
  },
  {
   "cell_type": "markdown",
   "metadata": {},
   "source": [
    "6) **Desde-Hasta**\n",
    "\n",
    "Definir la función desde_hasta con recursión de cola, que dados dos números enteros retorne una lista de números consecutivos donde el \n",
    "primer elemento de la lista resultante sea el primer elemento dado, y el último elemento de la lista resultante sea el segundo elemento dado."
   ]
  },
  {
   "cell_type": "code",
   "execution_count": 9,
   "metadata": {},
   "outputs": [
    {
     "name": "stdout",
     "output_type": "stream",
     "text": [
      "[2, 3, 4, 5, 6, 7]\n"
     ]
    }
   ],
   "source": [
    "# ARREGLAR\n",
    "def desde_hasta_cola(n1: int, n2:int) -> list[int]:\n",
    "    def desde_hasta_interna(n1:int, n2:int, lista: list[int]):\n",
    "        if n1 == n2:\n",
    "            return lista[n1]\n",
    "        else:\n",
    "            return desde_hasta_interna(n1 + 1, n2, lista)\n",
    "    return desde_hasta_interna(n1, n2)\n",
    "\n",
    "# Tomi's version\n",
    "def desde_hasta_cola(n1: int, n2:int) -> list[int]:\n",
    "    def desde_hasta_interna(n1:int, n2:int, lista: list[int]):\n",
    "        if n1 == n2:\n",
    "            lista.append(n1)\n",
    "            return lista\n",
    "        lista.append(n1)\n",
    "        return desde_hasta_interna(n1+1, n2, lista) if n1 < n2 else desde_hasta_interna(n1-1, n2, lista)\n",
    "    xs = [n1]\n",
    "    return desde_hasta_interna(n1+1, n2, xs) if n1 < n2 else desde_hasta_interna(n1-1, n2, xs) if n1 > n2 else xs\n",
    "\n",
    "print(desde_hasta_cola(2,7))"
   ]
  },
  {
   "cell_type": "markdown",
   "metadata": {},
   "source": [
    "7) **Intercalar**\n",
    "\n",
    "Definir la función intercalar con recursión de pila, que dadas dos listas de enteros, retorne una lista de enteros que corresponda al intercalado elemento a elemento de las dos listas dadas. "
   ]
  },
  {
   "cell_type": "code",
   "execution_count": null,
   "metadata": {},
   "outputs": [],
   "source": [
    "# ARREGLAR\n",
    "def intercalar(l1: list[int], l2: list[int]) -> list[int]:\n",
    "    if len(l1) != len(l2):\n",
    "        raise ValueError(\"Las listas deben contener la misma cantidad de elementos.\")\n",
    "    if len(l1) == 1:\n",
    "        return l1 + l2\n",
    "\n",
    "lista1 = list[3]\n",
    "lista2 = list[5]  \n",
    "print(intercalar(lista1, lista2))"
   ]
  },
  {
   "cell_type": "markdown",
   "metadata": {},
   "source": [
    "8) **Eliminar recursión**"
   ]
  },
  {
   "cell_type": "code",
   "execution_count": null,
   "metadata": {},
   "outputs": [],
   "source": [
    "# Acá tenemos un caso de recursión de cola\n",
    "def longitud_recursiva(lista, count=0):\n",
    "    if not lista:\n",
    "        return count\n",
    "    else: \n",
    "        return longitud_recursiva(lista[1:], count + 1)\n",
    "    \n",
    "print(longitud_recursiva([1,4,3,8,9]))\n",
    "\n",
    "# ARREGLAR\n",
    "def longitud_no_recursiva(lista, count=0): \n",
    "    while len(lista) == 0:\n",
    "        count += 1\n",
    "        lista = lista[1:]\n",
    "    return count\n",
    "\n",
    "print(longitud_recursiva([1,4,3,8,9]))"
   ]
  },
  {
   "cell_type": "markdown",
   "metadata": {},
   "source": [
    "9) **Palíndromo**\n",
    "\n",
    "Definir la función esPalindromo, que dada una lista de enteros, retorne si es o no palíndromo, utilizando recursividad explícita."
   ]
  },
  {
   "cell_type": "code",
   "execution_count": 13,
   "metadata": {},
   "outputs": [
    {
     "name": "stdout",
     "output_type": "stream",
     "text": [
      "True\n"
     ]
    }
   ],
   "source": [
    "def es_palindromo(l: list[int]) -> bool:\n",
    "    def es_palindromo_interno(l: list[int], inicio: int, fin: int) -> bool:\n",
    "        if inicio >= fin:\n",
    "            return True\n",
    "        if l[inicio] != l[fin]:\n",
    "            return False\n",
    "        return es_palindromo_interno(l, inicio + 1, fin - 1)  # va mirando recursivamente los elem más internos\n",
    "    return es_palindromo_interno(l, 0, len(l) - 1)\n",
    "\n",
    "lista1: int = [2,5,2]\n",
    "print(es_palindromo(lista1))"
   ]
  },
  {
   "cell_type": "markdown",
   "metadata": {},
   "source": [
    "10) **Cantidad apariciones**\n",
    "\n",
    "Definir una función cantidad() que dada una lista de enteros y un número n, retorno la cantidad de apariciones del número en la lista.\n"
   ]
  },
  {
   "cell_type": "code",
   "execution_count": 14,
   "metadata": {},
   "outputs": [
    {
     "name": "stdout",
     "output_type": "stream",
     "text": [
      "3\n"
     ]
    }
   ],
   "source": [
    "def cantidad(l: list[int], n: int) -> int:\n",
    "    def cantidad_interna(l: list[int], n: int, acumulador: int) -> int:\n",
    "        if not l:\n",
    "            return acumulador\n",
    "        else: \n",
    "            if l[0] == n:\n",
    "                return cantidad_interna(l[1:], n, acumulador + 1)\n",
    "            else:\n",
    "                return cantidad_interna(l[1:], n, acumulador)\n",
    "    return cantidad_interna(l, n, 0)\n",
    "\n",
    "lista: int = [3,7,2,8,2,2]\n",
    "print(cantidad(lista, 2))"
   ]
  },
  {
   "cell_type": "markdown",
   "metadata": {},
   "source": [
    "11) **Aplanar**\n",
    "\n",
    "Definir la función APLANAR que dada una lista de listas de enteros, retorne una lista de enteros que corresponda a laconcatenacion de elementos-lista de la lista original. \n",
    "Por ejemplo: aplanar([[5,7], [], [3,7,2], [9]]) = [5,7,3,7,2,9]"
   ]
  },
  {
   "cell_type": "code",
   "execution_count": 16,
   "metadata": {},
   "outputs": [
    {
     "name": "stdout",
     "output_type": "stream",
     "text": [
      "[5, 7, 3, 7, 2, 9]\n"
     ]
    }
   ],
   "source": [
    "# Recursión de cola\n",
    "def aplanar(l: list[list[int]]) -> list[int]:\n",
    "    def aplanar_interna(l: list[list[int]], acumulador: list[int]) -> list[int]:\n",
    "        if not l:\n",
    "            return acumulador\n",
    "        else: \n",
    "            for elemento in l[0]:\n",
    "                acumulador.append(elemento)\n",
    "            return aplanar_interna(l[1:], acumulador)\n",
    "    return aplanar_interna(l, [])\n",
    "\n",
    "l1 = [5,7]\n",
    "l2 = []\n",
    "l3 = [3,7,2]\n",
    "l4 = [9]\n",
    "print(aplanar([l1, l2, l3, l4]))"
   ]
  },
  {
   "cell_type": "markdown",
   "metadata": {},
   "source": [
    "12) **Quicksort**\n",
    "\n",
    "Definir la funcion quicksort que dada una lista de enteros, retorne la lista original, pero con sus elementos ordenados utilizando el método de ordenamiento quicksort."
   ]
  },
  {
   "cell_type": "code",
   "execution_count": 17,
   "metadata": {},
   "outputs": [
    {
     "name": "stdout",
     "output_type": "stream",
     "text": [
      "[2, 5, 7, 8]\n"
     ]
    }
   ],
   "source": [
    "# Recursión de pila\n",
    "def quicksort(l: list[int]) -> list[int]:\n",
    "    if not l:\n",
    "        return []\n",
    "    pivote: int = l.pop()\n",
    "    lista_menores: list[int] = []\n",
    "    lista_mayores: list[int] = []\n",
    "    for elemento in l:\n",
    "        if elemento <= pivote:\n",
    "            lista_menores.append(elemento)\n",
    "        else:\n",
    "            lista_mayores.append(elemento)  \n",
    "    return quicksort(lista_menores) + [pivote] + quicksort(lista_mayores)\n",
    "\n",
    "lista = [5,7,2,8]\n",
    "print(quicksort(lista))"
   ]
  },
  {
   "cell_type": "markdown",
   "metadata": {},
   "source": [
    "13) **Búsqueda binaria**\n",
    "\n",
    "Implementar la función recursiva busqueda_binaria, que dado un vector ordenado de enteros y un entero dado, retorne si el entero dado pertenece a alguna posicion del vector. "
   ]
  },
  {
   "cell_type": "code",
   "execution_count": 19,
   "metadata": {},
   "outputs": [
    {
     "name": "stdout",
     "output_type": "stream",
     "text": [
      "True\n",
      "False\n"
     ]
    }
   ],
   "source": [
    "def busqueda_binaria(l: list[int], n: int) -> bool:\n",
    "    l.sort()\n",
    "    if not l:\n",
    "        return False\n",
    "    else:\n",
    "        medio: int = len(l) // 2\n",
    "        if l[medio] == n:\n",
    "            return True\n",
    "        elif l[medio] < n:\n",
    "            return busqueda_binaria(l[medio + 1:], n) # mitad derecha\n",
    "        else: \n",
    "            return busqueda_binaria(l[:medio], n) # mitad izquierda\n",
    "        \n",
    "lista: int = [3,6,8,9,10]\n",
    "print(busqueda_binaria(lista, 3))\n",
    "print(busqueda_binaria(lista, 45))"
   ]
  },
  {
   "cell_type": "markdown",
   "metadata": {},
   "source": [
    "14) **Contar-Hacia**\n",
    "\n",
    "Definir dos procedimientos contar_hacia_atras_par y contar_hacia_atras_impar con recursion mutua que dado un número n, imprima por pantalla todos los números de manera descendente hasta llegar a 1."
   ]
  },
  {
   "cell_type": "code",
   "execution_count": 20,
   "metadata": {},
   "outputs": [
    {
     "name": "stdout",
     "output_type": "stream",
     "text": [
      "5\n",
      "4\n",
      "3\n",
      "2\n",
      "1\n"
     ]
    }
   ],
   "source": [
    "def contar_hacia_atras_par(n: int):\n",
    "    if n <= 0:\n",
    "        raise ValueError ('El número debe ser mayor a 0')\n",
    "    if n == 1:\n",
    "        print (n)\n",
    "    else: \n",
    "        print(n)\n",
    "        contar_hacia_atras_impar(n-1)\n",
    "\n",
    "def contar_hacia_atras_impar(n: int):\n",
    "    if n <= 0:\n",
    "        raise ValueError ('El número debe ser mayor a 0')\n",
    "    if n == 1:\n",
    "        print (n)\n",
    "    else: \n",
    "        print(n)\n",
    "        contar_hacia_atras_par(n-1)\n",
    "\n",
    "contar_hacia_atras_par(5)"
   ]
  },
  {
   "cell_type": "markdown",
   "metadata": {},
   "source": [
    "15) **Producto escalar**\n",
    "\n",
    "Implementar una funcion recursiva producto_escalar que dados dos vectores de enteros, retorne un entero que represente el producto escalar de ambos (recursion de pila)."
   ]
  },
  {
   "cell_type": "code",
   "execution_count": 21,
   "metadata": {},
   "outputs": [
    {
     "name": "stdout",
     "output_type": "stream",
     "text": [
      "36\n"
     ]
    }
   ],
   "source": [
    "def producto_escalar(v1: list[int], v2: list[int]) -> int:\n",
    "    if len(v1) != len(v2):\n",
    "        raise ValueError('Los vectores deben tener el mismo tamaño')\n",
    "    if not v1 and not v2:\n",
    "        return 0\n",
    "    else:\n",
    "        producto = v1[0] * v2[0]\n",
    "        return producto + producto_escalar(v1[1:], v2[1:])\n",
    "    \n",
    "print(producto_escalar([1,2,3], [3,6,7]))"
   ]
  },
  {
   "cell_type": "markdown",
   "metadata": {},
   "source": [
    "16) **Torres de Hanoi**\n",
    "\n",
    "El juego consiste en tres postes, llamados *Origen*, *Destino* y *Auxiliar* y *n* discos de diferentes tamaños apilados en el poste Origen, desde el mayor tamaño al menos tamaño en el tope. El objetivo es dejar todos los discos en el poste Destino (también de mayor a menor), en la menor cantidad de movimientos posibles.\n",
    "\n",
    "- Implementar el procedimiento recursivo *hanoi*, que dado un número n, imprima la sucesión de movimientos necesarios para resolver el problema. Cada movimiento se represente como un par (poste desde, poste hasta).\n",
    "- Demostrar por inducción, utilizando el procedimiento, que la cantidad de movimientos del juego para n discos es 2n-1."
   ]
  },
  {
   "cell_type": "code",
   "execution_count": null,
   "metadata": {},
   "outputs": [],
   "source": [
    "def hanoi(discos: int, origen: str, auxiliar: str, destino: str) -> int:\n",
    "    if discos == 1:  # caso base\n",
    "        print(origen, 'a', destino)\n",
    "        return 1  # indica que se realizó un movimiento\n",
    "    else:\n",
    "        movimientos: int = 0\n",
    "        movimientos += hanoi(discos - 1, origen, destino, auxiliar) # movemos los discos de origen a auxiliar, para despejar origen y que el disco más grande vaya a destino\n",
    "        print(origen, 'a', destino)\n",
    "        movimientos += 1\n",
    "        movimientos += hanoi(discos - 1, auxiliar, origen, destino) # movemos los discos de auxiliar a destino, para despejar origen y que el disco más grande vaya a destino\n",
    "        return movimientos\n",
    "\n",
    "t = hanoi(3,'A','B','C')\n",
    "print(t)"
   ]
  },
  {
   "cell_type": "markdown",
   "metadata": {},
   "source": [
    "17) **Fibonacci**\n",
    "\n",
    "Implementar la recursión de cola de Fibonacci\n",
    "\n"
   ]
  },
  {
   "cell_type": "code",
   "execution_count": 24,
   "metadata": {},
   "outputs": [
    {
     "name": "stdout",
     "output_type": "stream",
     "text": [
      "Fibonacci de 200: 280571172992510140037611932413038677189525\n"
     ]
    }
   ],
   "source": [
    "def fibo_cola(n: int) -> int:  # n es el indice del nro fibonacci que queremos calcular\n",
    "    def fibonacci_interna(n: int, a: int, b: int): # a y b son los dos numeros anteriores en la secuencia\n",
    "        if n < 0:\n",
    "            raise ValueError('n debe ser mayor o igual a cero.')\n",
    "        if n == 0:\n",
    "            return a\n",
    "        if n == 1:\n",
    "            return b\n",
    "        return fibonacci_interna(n - 1, b, a + b) # esta actualización de a y b nos permite retroceder en la secuencia hasta el indice deseado\n",
    "    return fibonacci_interna(n, 0, 1)\n",
    "\n",
    "n = 200\n",
    "print(f\"Fibonacci de {n}: {fibo_cola(n)}\")"
   ]
  },
  {
   "cell_type": "code",
   "execution_count": 23,
   "metadata": {},
   "outputs": [
    {
     "name": "stdout",
     "output_type": "stream",
     "text": [
      "Fibonacci de 12: 144\n"
     ]
    }
   ],
   "source": [
    "# Técnica de divide y conquistarás\n",
    "def fibo_cola_explicita(n: int) -> int:\n",
    "    def fibo(pila: list[int], acumulador: int = 0) -> int:\n",
    "        if not pila:\n",
    "            return acumulador\n",
    "        else: \n",
    "            actual = pila.pop()\n",
    "            if actual < 2:\n",
    "                acumulador += actual\n",
    "            else:\n",
    "                pila.append(actual - 1)\n",
    "                pila.append(actual - 2)\n",
    "            return fibo(pila, acumulador)\n",
    "    return fibo([n])\n",
    "\n",
    "n = 12\n",
    "print(f\"Fibonacci de {n}: {fibo_cola_explicita(n)}\")"
   ]
  },
  {
   "cell_type": "code",
   "execution_count": 30,
   "metadata": {},
   "outputs": [
    {
     "name": "stdout",
     "output_type": "stream",
     "text": [
      "Fibonacci de 12: 144\n"
     ]
    }
   ],
   "source": [
    "# Técnica de memoization\n",
    "def fibo_cola_optimizado(n: int) -> int:\n",
    "    mem = {}\n",
    "    def fibo(n: int) -> int:\n",
    "        if n <= 1:\n",
    "            return n\n",
    "        else:\n",
    "            if not n in mem:\n",
    "                mem[n] = fibo(n-2) + fibo(n-1)\n",
    "            return mem[n]\n",
    "    return fibo(n)\n",
    "\n",
    "n = 12\n",
    "print(f\"Fibonacci de {n}: {fibo_cola_optimizado(n)}\")"
   ]
  },
  {
   "cell_type": "markdown",
   "metadata": {},
   "source": [
    "18) **Partes**\n",
    "\n",
    "Definir la función *partes* que dada una lista de enteros, retorne una lista de listas de enteros, en que cada elemento del resultado sea cada una de las sublistas de la lista original.\n",
    "Por ejemplo: partes([6,2,3]) = ([],[6],[2],[3],[6,2],[6,3],[2,3],[6,2,3])"
   ]
  },
  {
   "cell_type": "code",
   "execution_count": 1,
   "metadata": {},
   "outputs": [
    {
     "name": "stdout",
     "output_type": "stream",
     "text": [
      "[[6, 2, 3], [2, 3], [3], []]\n"
     ]
    }
   ],
   "source": [
    "def partes(xs: list[int]) -> list[list[int]]:\n",
    "    xss: list[list[int]] = []\n",
    "    if not xs:\n",
    "        return [[]]\n",
    "    else:\n",
    "        sublistas = xs[1:] # lista sin primer elemento\n",
    "        partes_sublistas = partes(sublistas)\n",
    "        for sublista in partes_sublistas:\n",
    "            return [[xs[0]] + sublista] + partes_sublistas\n",
    "    return xss\n",
    "    \n",
    "resultado = partes([6,2,3])\n",
    "print(resultado)\n"
   ]
  },
  {
   "cell_type": "markdown",
   "metadata": {},
   "source": [
    "19) **Producto cartesiano**\n",
    "\n",
    "Definir la función *todos_con_todos*, que dadas dos listas de enteros, retorne una lista de pares de enteros que formen partes de combinaciones de elementos de la primera lista con elementos de la segunda lista."
   ]
  },
  {
   "cell_type": "code",
   "execution_count": 99,
   "metadata": {},
   "outputs": [
    {
     "name": "stdout",
     "output_type": "stream",
     "text": [
      "[(3, 3), (3, 4), (3, 7), (6, 3), (6, 4), (6, 7), (2, 3), (2, 4), (2, 7)]\n"
     ]
    }
   ],
   "source": [
    "def producto_cartesiano_iter(xs:list[int], ys: list[int]) -> list[tuple]:\n",
    "    resultado: list[tuple] = []\n",
    "    if not xs and not ys:\n",
    "        return []\n",
    "    else:\n",
    "        for i in range(len(xs)):\n",
    "            for j in range(len(ys)):\n",
    "                resultado.append((xs[i],ys[j]))\n",
    "    return resultado\n",
    "\n",
    "lista1 = [3,6,2]\n",
    "lista2 = [3,4,7]\n",
    "print(producto_cartesiano_iter(lista1, lista2))"
   ]
  },
  {
   "cell_type": "code",
   "execution_count": 121,
   "metadata": {},
   "outputs": [
    {
     "name": "stdout",
     "output_type": "stream",
     "text": [
      "[(3, 3), (3, 4), (3, 7), (6, 3), (6, 4), (6, 7), (2, 3), (2, 4), (2, 7), (9, 3), (9, 4), (9, 7)]\n"
     ]
    }
   ],
   "source": [
    "def producto_cartesiano(xs:list[int], ys: list[int]) -> list[tuple]:\n",
    "    if not xs or not ys:\n",
    "        return []\n",
    "    else:\n",
    "        pares_primero = [(xs[0], elem) for elem in ys]\n",
    "        resto_pares = producto_cartesiano(xs[1:], ys)\n",
    "        return pares_primero + resto_pares\n",
    "    \n",
    "lista1 = [3,6,2,9]\n",
    "lista2 = [3,4,7]\n",
    "print(producto_cartesiano(lista1, lista2))"
   ]
  }
 ],
 "metadata": {
  "kernelspec": {
   "display_name": "Python 3",
   "language": "python",
   "name": "python3"
  },
  "language_info": {
   "codemirror_mode": {
    "name": "ipython",
    "version": 3
   },
   "file_extension": ".py",
   "mimetype": "text/x-python",
   "name": "python",
   "nbconvert_exporter": "python",
   "pygments_lexer": "ipython3",
   "version": "3.11.0"
  }
 },
 "nbformat": 4,
 "nbformat_minor": 2
}
