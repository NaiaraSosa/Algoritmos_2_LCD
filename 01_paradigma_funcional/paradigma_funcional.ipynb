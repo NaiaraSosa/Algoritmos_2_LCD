{
 "cells": [
  {
   "cell_type": "markdown",
   "metadata": {},
   "source": [
    "## **Paradigma funcional en Python**"
   ]
  },
  {
   "cell_type": "markdown",
   "metadata": {},
   "source": [
    "#### **Funciones de Orden Superior**\n",
    "\n",
    "Aquellas que reciben una o más funciones como argumento o que devuelven una función como retorno."
   ]
  },
  {
   "cell_type": "code",
   "execution_count": null,
   "metadata": {},
   "outputs": [],
   "source": [
    "'''\n",
    "Veamos este ejemplo en python de una función de orden superior que aplica una función a cada elemento de una lista.\n",
    "'''\n",
    "\n",
    "from typing import TypeVar, Union\n",
    "from collections.abc import Callable, Sequence\n",
    "\n",
    "Numerico = Union[int, float]\n",
    "\n",
    "T = TypeVar(\"T\")\n",
    "\n",
    "def aplicar_operacion(lista: Sequence[T], operacion: Callable[[T], T]) -> Sequence[T]:\n",
    "    resultado = []\n",
    "    for elemento in lista:\n",
    "        resultado.append(operacion(elemento))\n",
    "    return resultado\n",
    "\n",
    "# Definición de funciones que se aplicarán a la lista\n",
    "def cuadrado(x: Numerico) -> Numerico:\n",
    "    return x * x\n",
    "\n",
    "def inverso(x: Numerico) -> Numerico:\n",
    "    return 0 - x\n",
    "\n",
    "# Uso de funcion de orden superior\n",
    "numeros: list[int] = [1, -2, 3, -4, 5, -6]\n",
    "numeros_cuadrados = aplicar_operacion(numeros, cuadrado)  # Elevar al cuadrado\n",
    "numeros_inversos = aplicar_operacion(numeros, inverso)   # Inverso aditivo\n",
    "\n",
    "print(numeros_cuadrados)  # [1, 4, 9, 16, 25, 36]\n",
    "print(numeros_inversos)  # [-1, 2, -3, 4, -5, 6]"
   ]
  },
  {
   "cell_type": "markdown",
   "metadata": {},
   "source": [
    "#### **Composición de funciones**\n",
    "Combinar 2 o más funciones de manera que la salida de una f se convierte en la entrada de la segunda, y así sucesivamente"
   ]
  },
  {
   "cell_type": "code",
   "execution_count": null,
   "metadata": {},
   "outputs": [],
   "source": [
    "# VERSIÓN IMPERATIVA\n",
    "\n",
    "def add_elemento(xs: list[int], x: int) -> None:\n",
    "    xs.append(x)\n",
    "\n",
    "lista_enteros: list[int] = []\n",
    "add_elemento(lista_enteros, 1)\n",
    "add_elemento(lista_enteros, 2)\n",
    "add_elemento(lista_enteros, 3)\n",
    "print(lista_enteros)"
   ]
  },
  {
   "cell_type": "code",
   "execution_count": null,
   "metadata": {},
   "outputs": [],
   "source": [
    "# VERSIÓN FUNCIONAL\n",
    "\n",
    "def add_elemento(xs: list[int], x: int) -> list[int]:\n",
    "    ys: list[int] = xs.copy()\n",
    "    ys.append(x)\n",
    "    return ys\n",
    "\n",
    "lista_enteros: list[int] = add_elemento(add_elemento(add_elemento([], 1), 2), 3)\n",
    "print(lista_enteros)\n",
    "\n",
    "''' El cambio más importante es devolver la estructura modificada en la función, de forma que pueda ser consumida sucesivamente \n",
    "como argumento de la próxima. '''\n"
   ]
  },
  {
   "cell_type": "markdown",
   "metadata": {},
   "source": [
    "### **Inmutabilidad**"
   ]
  },
  {
   "cell_type": "markdown",
   "metadata": {},
   "source": [
    "##### **Transitividad**\n",
    "Recordar que debemos verificar que los atributos de un objeto inmutable sean también inmutables, o de lo contrario contemplar en que no puedan mutar."
   ]
  },
  {
   "cell_type": "code",
   "execution_count": null,
   "metadata": {},
   "outputs": [],
   "source": [
    "from typing import TypeVar, Generic\n",
    "\n",
    "T = TypeVar(\"T\")\n",
    "\n",
    "class ContenedorInmutable(Generic[T]):\n",
    "    def __init__(self, valor: T):\n",
    "        self._valor: T = valor\n",
    "    \n",
    "    def contenido(self) -> T:\n",
    "        return self._valor\n",
    "\n",
    "xs: list[int] = [1, 2, 3]\n",
    "contenedor: ContenedorInmutable[list[int]] = ContenedorInmutable(xs)\n",
    "xs[0] = 9\n",
    "\n",
    "print(contenedor.contenido())   # [9, 2, 3]"
   ]
  },
  {
   "cell_type": "markdown",
   "metadata": {},
   "source": [
    "#### **Clases inmutables: Properties**\n",
    "Sabemos que en Python existe posibilidad de convertir atributos en propiedades para mejorar el encapsulamiento de la clase. Una estrategia sería convertir los atributos en propiedades de sólo lectura, es decir, no definir los setters."
   ]
  },
  {
   "cell_type": "code",
   "execution_count": null,
   "metadata": {},
   "outputs": [],
   "source": [
    "class MiClaseInmutable:\n",
    "    def __init__(self, valor_inicial):\n",
    "        self._valor = valor_inicial\n",
    "    \n",
    "    @property\n",
    "    def valor(self):\n",
    "        return self._valor\n",
    "\n",
    "objeto_inmutable = MiClaseInmutable(20)\n",
    "objeto_inmutable.valor                      # 20\n",
    "objeto_inmutable.valor = 10                 # AttributeError: property 'valor' of 'MiClaseInmutable' object has no setter\n",
    "objeto_inmutable._valor = 10                # Haciendo esto si que modifica el valor\n",
    "objeto_inmutable.valor                      # 10"
   ]
  },
  {
   "cell_type": "markdown",
   "metadata": {},
   "source": [
    "#### **Clases imnutables: Métodos especiales '__setattr__' y '__delattr__'**"
   ]
  },
  {
   "cell_type": "code",
   "execution_count": null,
   "metadata": {},
   "outputs": [],
   "source": [
    "class MiClaseInmutable:\n",
    "    __slots__ = ('_valor',)\n",
    "\n",
    "    def __init__(self, valor_inicial):\n",
    "        super().__setattr__('_valor', valor_inicial)\n",
    "    \n",
    "    def __setattr__(self, __name: str, __value: any) -> None:\n",
    "        raise AttributeError(f'No es posible setear el atributo {__name}')\n",
    "    \n",
    "    def __delattr__(self, __name: str) -> None:\n",
    "        raise AttributeError(f'No es posible eliminar el atributo {__name}')\n",
    "    \n",
    "    def valor(self):\n",
    "        return self._valor\n",
    "    \n",
    "\n",
    "'''\n",
    "En la inicialización debemos utilizar el super().__setattr__() porque el propio devuelve una excepción. \n",
    "Entonces una vez inicializado el objeto, nunca podremos modificarlo.\n",
    "'''"
   ]
  },
  {
   "cell_type": "markdown",
   "metadata": {},
   "source": [
    "#### **Clases imnutables: Named Tuples**"
   ]
  },
  {
   "cell_type": "code",
   "execution_count": 16,
   "metadata": {},
   "outputs": [
    {
     "name": "stdout",
     "output_type": "stream",
     "text": [
      "MiClaseInmutable(valor1=10, valor2=20)\n"
     ]
    }
   ],
   "source": [
    "from collections import namedtuple\n",
    "\n",
    "MiClaseInmutable = namedtuple('MiClaseInmutable', 'valor1 valor2')\n",
    "mi_obj = MiClaseInmutable(10, 20)\n",
    "mi_obj                  # MiClaseInmutable(valor1=10, valor2=20)\n",
    "mi_obj.valor1           # 10\n",
    "mi_obj.valor2           # 20"
   ]
  },
  {
   "cell_type": "markdown",
   "metadata": {},
   "source": [
    "El problema con esta estrategia es que perdemos el concepto de encapsulamiento que nos proveen las clases, vinculando la estructura con el comportamiento. Como solución podemos definir nuestra clase heredando desde *namedtuple*"
   ]
  },
  {
   "cell_type": "code",
   "execution_count": null,
   "metadata": {},
   "outputs": [],
   "source": [
    "from collections import namedtuple\n",
    "\n",
    "class MiClaseInmutable(namedtuple('MiClaseInmutable', 'valor1 valor2')):\n",
    "    __slots__ = ()\n",
    "    def __repr__(self) -> str:\n",
    "        return f'{super().__repr__()} INMUTABLE'\n",
    "    \n",
    "mi_obj = MiClaseInmutable(10, 20)\n",
    "mi_obj   # MiClaseInmutable(valor1=10, valor2=20) INMUTABLE\n",
    "\n",
    "'''\n",
    "Debemos agregar __slots__ para evitar que la clase pueda aceptar nuevos atributos, \n",
    "pero luego podemos definir el comportamiento que deseemos, como en el ejemplo sobreescribiendo el método especial __repr__.'''"
   ]
  },
  {
   "cell_type": "markdown",
   "metadata": {},
   "source": [
    "#### **Clases imnutables: dataclasses**"
   ]
  },
  {
   "cell_type": "code",
   "execution_count": null,
   "metadata": {},
   "outputs": [],
   "source": [
    "from dataclasses import dataclass\n",
    "\n",
    "@dataclass(frozen=True) # En True este parámetro evita la asignacion de nuevos valores\n",
    "class Persona:\n",
    "    nombre: str\n",
    "    apellido: str\n",
    "    edad: int\n",
    "\n",
    "    def es_adulta(self):\n",
    "        return self.edad >= 18\n",
    "    \n",
    "p = Persona(\"Julia\", \"Martinez\", 22)\n",
    "print(p)        # Persona(nombre='Julia', apellido='Martinez', edad=22)\n",
    "p.edad = 20     # FrozenInstanceError: cannot assign to field 'edad'"
   ]
  },
  {
   "cell_type": "markdown",
   "metadata": {},
   "source": [
    "##### **Transparencia referencial**\n",
    "\n",
    "Podríamos reemplazar a cierta expresión de una función y argumentos aplicados simplemente con su valor de retorno y así no se producirían cambios semánticos en el programa, como por ejemplo:"
   ]
  },
  {
   "cell_type": "code",
   "execution_count": null,
   "metadata": {},
   "outputs": [],
   "source": [
    "def suma(x: int, y: int) -> int:\n",
    "    return x + y\n",
    "\n",
    "nro: int = suma(10, 6) * 2\n",
    "nro: int = 16 * 2           # Reemplazamos suma(10, 6) por su valor evaluado 16"
   ]
  },
  {
   "cell_type": "markdown",
   "metadata": {},
   "source": [
    "Ejemplo de efecto secundario al ejecutar un programa, donde la función *duplicar_elemento* produce de forma sutil un efecto secundario al modificar los elementos de la lista original que se pasa como argumento."
   ]
  },
  {
   "cell_type": "code",
   "execution_count": null,
   "metadata": {},
   "outputs": [],
   "source": [
    "def duplicar_elemento(lista: list[int], indice: int) -> list[int]:\n",
    "    lista[indice] *= 2\n",
    "    return lista\n",
    "\n",
    "def duplicar_elemento_pura(lista: list[int], indice: int) -> list[int]:\n",
    "    nueva_lista = lista.copy()\n",
    "    nueva_lista[indice] *= 2\n",
    "    return nueva_lista\n",
    "\n",
    "# Uso de ambas funciones\n",
    "original: list[int] = [1, 2, 3]\n",
    "resultado1: list[int] = duplicar_elemento(original, 1)\n",
    "resultado2: list[int] = duplicar_elemento_pura(original, 1)\n",
    "\n",
    "print(f\"Impura: {resultado1}\")  # Salida: [1, 4, 3]\n",
    "print(f\"Pura: {resultado2}\")  # Salida: [1, 8, 3]"
   ]
  },
  {
   "cell_type": "markdown",
   "metadata": {},
   "source": [
    "#### **Evaluación perezosa**\n",
    "\n",
    "Establece que la evaluación de una expresión puede dilatarse hasta que sea necesario su valor.\n",
    "A su vez permite trabajar con estructuras infinitas, mediante la implementación de funciones generadoras, las cuales retornan un iterador perezoso con la palabra reservada yield."
   ]
  },
  {
   "cell_type": "code",
   "execution_count": null,
   "metadata": {},
   "outputs": [],
   "source": [
    "# Ejemplo con yield, usado para trabajar estructuras infinitas donde se devuelve un iterador perezoso\n",
    "\n",
    "from collections.abc import Iterator\n",
    "\n",
    "def genera_saludo() -> Iterator[str]:\n",
    "    yield \"Hola\"\n",
    "    yield \"Buenas\"\n",
    "    yield \"Buen día\"\n",
    "\n",
    "iterador_saludos = genera_saludo()\n",
    "print(next(iterador_saludos))   # Hola\n",
    "print(next(iterador_saludos))   # Buenas\n",
    "print(next(iterador_saludos))   # Buen día\n",
    "print(next(iterador_saludos))   # Error StopIteration"
   ]
  },
  {
   "cell_type": "code",
   "execution_count": null,
   "metadata": {},
   "outputs": [],
   "source": [
    "for saludo in genera_saludo():\n",
    "    print(saludo)"
   ]
  },
  {
   "cell_type": "markdown",
   "metadata": {},
   "source": [
    "Mediante el uso del funciones o expresiones generadoras podemos lograr en Python una evaluación diferida al momento en el cual se lo necesita (se consume el valor retornado). Esto es útil para modelar estructuras infinitas, veamos con un ejemplo."
   ]
  },
  {
   "cell_type": "code",
   "execution_count": 29,
   "metadata": {},
   "outputs": [],
   "source": [
    "from collections.abc import Iterator\n",
    "\n",
    "def positivos_pares() -> Iterator[int]:\n",
    "    numero: int = 0\n",
    "    while True:\n",
    "        yield numero\n",
    "        numero += 2\n",
    "\n",
    "# Podemos implementarlo con una expresión generadora usando compresión de listas\n",
    "\n",
    "positivos_pares = (x for x in range(0, 10, 2))  # <generator object <genexpr> ...>"
   ]
  },
  {
   "cell_type": "markdown",
   "metadata": {},
   "source": [
    "### **Transformación de funciones**"
   ]
  },
  {
   "cell_type": "markdown",
   "metadata": {},
   "source": [
    "#### **Currificación**\n",
    "Conversión de una función con n argumentos en n funciones con un único argumento. \n"
   ]
  },
  {
   "cell_type": "code",
   "execution_count": null,
   "metadata": {},
   "outputs": [],
   "source": [
    "# Función simple de suma\n",
    "def suma(x, y):\n",
    "    return x + y\n",
    "\n",
    "# Función currificada de suma\n",
    "def suma_curry(x):\n",
    "    def suma_x(y):\n",
    "        return x + y\n",
    "    return suma_x\n",
    "\n",
    "print(suma(1, 3))\n",
    "print(suma_curry(1)(3))"
   ]
  },
  {
   "cell_type": "markdown",
   "metadata": {},
   "source": [
    "Otra opción más simple sería devolver directamente una expresión *lambda*"
   ]
  },
  {
   "cell_type": "code",
   "execution_count": null,
   "metadata": {},
   "outputs": [],
   "source": [
    "def suma_curry(x):\n",
    "    return lambda y: x + y"
   ]
  },
  {
   "cell_type": "markdown",
   "metadata": {},
   "source": [
    "También podemos aprovechar la aplicación parcial para definir nuevas funciones."
   ]
  },
  {
   "cell_type": "code",
   "execution_count": 33,
   "metadata": {},
   "outputs": [],
   "source": [
    "def doble(x):\n",
    "    return suma_curry(x)(x)\n",
    "\n",
    "def incrementar_10(x):\n",
    "    return suma_curry(10)(x)"
   ]
  },
  {
   "cell_type": "markdown",
   "metadata": {},
   "source": [
    "Si deseamos *currificar* una función deberíamos generar tantos niveles de anidado como parámetros tiene la función original."
   ]
  },
  {
   "cell_type": "code",
   "execution_count": null,
   "metadata": {},
   "outputs": [],
   "source": [
    "def suma_xyz(x):\n",
    "    def suma_x(y):\n",
    "        def suma_y(z):\n",
    "            return x + y + z\n",
    "        return suma_y\n",
    "    return suma_x\n",
    "\n",
    "suma_xyz(1)(2)(3)"
   ]
  },
  {
   "cell_type": "markdown",
   "metadata": {},
   "source": [
    "*functools.partial*: del módulo functools, que nos permite realizar la vinculación de la aplicación parcial a otra función. Por lo cual puede resultar en una herramienta útil en lugar de currificar nuestras funciones."
   ]
  },
  {
   "cell_type": "code",
   "execution_count": null,
   "metadata": {},
   "outputs": [],
   "source": [
    "from functools import partial\n",
    "\n",
    "def producto(x: int, y: int) -> int:\n",
    "    return x * y\n",
    "\n",
    "producto_10 = partial(producto, 10)\n",
    "producto_10(2)  # 20"
   ]
  },
  {
   "cell_type": "markdown",
   "metadata": {},
   "source": [
    "*pymonad.tools.curry*: el decorador curry() también puede ser útil para facilitar la currificación de una función, solo hay que pasarle la cantidad de argumentos con la que se currifica. "
   ]
  },
  {
   "cell_type": "code",
   "execution_count": null,
   "metadata": {},
   "outputs": [],
   "source": [
    "from pymonad.tools import curry\n",
    "\n",
    "@curry(2)\n",
    "def producto(x: int, y: int) -> int:\n",
    "    return x * y\n",
    "\n",
    "producto_10 = producto(10)\n",
    "producto_10(2)   # 20"
   ]
  },
  {
   "cell_type": "markdown",
   "metadata": {},
   "source": [
    "#### **Composición con decoradores**\n",
    "Es otra opción para la composición de funciones, ya que un decorador básicamente realiza mi_funcion = decorador(mi_funcion)."
   ]
  },
  {
   "cell_type": "markdown",
   "metadata": {},
   "source": [
    "Veamos ahora un ejemplo sencillo, podríamos definir un decorador para limpiar los espacios al principio y final de una cadena."
   ]
  },
  {
   "cell_type": "code",
   "execution_count": null,
   "metadata": {},
   "outputs": [],
   "source": [
    "from collections.abc import Callable\n",
    "from functools import wraps\n",
    "\n",
    "def trim(f: Callable[[str], str]) -> Callable[[str], str]:\n",
    "    @wraps(f)\n",
    "    def wrapper(texto: str) -> str:\n",
    "        return f(texto).strip()\n",
    "    return wrapper\n",
    "\n",
    "@trim\n",
    "def transforma_texto(texto: str) -> str:\n",
    "    return texto.replace('.',' ')\n",
    "\n",
    "transforma_texto('  esto es una prueba. ')  # 'esto es una prueba'"
   ]
  },
  {
   "cell_type": "markdown",
   "metadata": {},
   "source": [
    "Podríamos extender la versión previa de forma que reciba parámetros que determinen si deseamos eliminar sólo espacios en el inicio o el final de la cadena."
   ]
  },
  {
   "cell_type": "code",
   "execution_count": 40,
   "metadata": {},
   "outputs": [],
   "source": [
    "from collections.abc import Callable\n",
    "from functools import wraps\n",
    "\n",
    "def trim(inicio: bool = True, fin: bool = True) -> Callable[[Callable[[str], str]], Callable[[str], str]]:\n",
    "    def trim_deco(f: Callable[[str], str]) -> Callable[[str], str]:\n",
    "        @wraps(f)\n",
    "        def wrapper(texto: str) -> str:\n",
    "            texto = f(texto)\n",
    "            if inicio:\n",
    "                texto = texto.lstrip()\n",
    "            if fin:\n",
    "                texto = texto.rstrip()\n",
    "            return texto\n",
    "        return wrapper\n",
    "    return trim_deco"
   ]
  },
  {
   "cell_type": "markdown",
   "metadata": {},
   "source": [
    "Ahora si aplicamos este nuevo decorador, debemos hacerlo con parámetros:\n",
    "\n"
   ]
  },
  {
   "cell_type": "code",
   "execution_count": 43,
   "metadata": {},
   "outputs": [
    {
     "data": {
      "text/plain": [
       "'  esto es una prueba'"
      ]
     },
     "execution_count": 43,
     "metadata": {},
     "output_type": "execute_result"
    }
   ],
   "source": [
    "@trim(inicio=False)\n",
    "def transforma_texto(texto: str) -> str:\n",
    "    return texto.replace('.',' ')\n",
    "\n",
    "transforma_texto('  esto es una prueba. ')  # '  esto es una prueba'"
   ]
  },
  {
   "cell_type": "code",
   "execution_count": 42,
   "metadata": {},
   "outputs": [
    {
     "data": {
      "text/plain": [
       "'esto es una prueba  '"
      ]
     },
     "execution_count": 42,
     "metadata": {},
     "output_type": "execute_result"
    }
   ],
   "source": [
    "@trim(fin=False)\n",
    "def transforma_texto(texto: str) -> str:\n",
    "    return texto.replace('.',' ')\n",
    "\n",
    "transforma_texto('  esto es una prueba. ')  # 'esto es una prueba  '"
   ]
  },
  {
   "cell_type": "markdown",
   "metadata": {},
   "source": [
    "### **Iteración e iterables**"
   ]
  },
  {
   "cell_type": "markdown",
   "metadata": {},
   "source": [
    "Veamos un ejemplo de cómo podríamos modelar la lógica de un for con enfoque funcional. Primero un ejemplo para calcular una potencia de 2:"
   ]
  },
  {
   "cell_type": "code",
   "execution_count": 45,
   "metadata": {},
   "outputs": [
    {
     "data": {
      "text/plain": [
       "2048"
      ]
     },
     "execution_count": 45,
     "metadata": {},
     "output_type": "execute_result"
    }
   ],
   "source": [
    "def potencia2(n: int) -> int:\n",
    "    retorno: int = 1\n",
    "    for x in range(0, n):\n",
    "        retorno *= 2\n",
    "    return retorno\n",
    "\n",
    "potencia2(11)   # 2048"
   ]
  },
  {
   "cell_type": "markdown",
   "metadata": {},
   "source": [
    "Veamos cómo podríamos resolver esto desde el paradigma funcional convirtiendo la estructura de iteración en una función pura."
   ]
  },
  {
   "cell_type": "code",
   "execution_count": 46,
   "metadata": {},
   "outputs": [
    {
     "data": {
      "text/plain": [
       "2048"
      ]
     },
     "execution_count": 46,
     "metadata": {},
     "output_type": "execute_result"
    }
   ],
   "source": [
    "def iterar(veces: int, func: Callable[..., any], valor: any) -> any:\n",
    "    if veces <= 0:\n",
    "        return valor\n",
    "    else:\n",
    "        return iterar(veces - 1, func, func(valor))\n",
    "    \n",
    "def potencia2(n: int) -> int:\n",
    "    return iterar(n, lambda x: 2 * x, 1)\n",
    "\n",
    "potencia2(11)   # 2048"
   ]
  },
  {
   "cell_type": "markdown",
   "metadata": {},
   "source": [
    "#### **Mapeo**\n",
    "La función map() es de orden superior porque recibe otra como argumento."
   ]
  },
  {
   "cell_type": "code",
   "execution_count": 49,
   "metadata": {},
   "outputs": [
    {
     "data": {
      "text/plain": [
       "[1, 4, 9, 16]"
      ]
     },
     "execution_count": 49,
     "metadata": {},
     "output_type": "execute_result"
    }
   ],
   "source": [
    "xs: list[int] = [1, 2, 3, 4]\n",
    "ys: list[int] = []\n",
    "operacion = lambda x: x * x\n",
    "\n",
    "cuadrados: map = map(operacion, xs)    # <map at 0x1beb3187940>, iterador perezoso\n",
    "list(cuadrados)                        # [1, 4, 9, 16], recien con el list se aplica sobre cada elemento la operacion"
   ]
  },
  {
   "cell_type": "markdown",
   "metadata": {},
   "source": [
    "En este ejemplo podemos ver que el objeto retornado por map es un iterador perezoso, por lo cual recién cuando construimos una lista a partir de un iterador con el constructor list(), se itera sobre cada elemento para obtener su cuadrado."
   ]
  },
  {
   "cell_type": "code",
   "execution_count": 50,
   "metadata": {},
   "outputs": [
    {
     "data": {
      "text/plain": [
       "[2.0, 5.0, 2.5]"
      ]
     },
     "execution_count": 50,
     "metadata": {},
     "output_type": "execute_result"
    }
   ],
   "source": [
    "# Otro ejemplo pasando más de un argumento\n",
    "totales: list[int] = [100, 200, 300]\n",
    "registros: list[int] = [50, 40, 120]\n",
    "proporciones: map = map(lambda x, y: x / y, totales, registros)\n",
    "list(proporciones)  # [2.0, 5.0, 2.5]"
   ]
  },
  {
   "cell_type": "markdown",
   "metadata": {},
   "source": [
    "Cuando aplicamos map a listas es recomendable usar *list comprehensions*. "
   ]
  },
  {
   "cell_type": "code",
   "execution_count": 51,
   "metadata": {},
   "outputs": [
    {
     "data": {
      "text/plain": [
       "[2.0, 5.0, 2.5]"
      ]
     },
     "execution_count": 51,
     "metadata": {},
     "output_type": "execute_result"
    }
   ],
   "source": [
    "# zip() -> permite construir un iterable de tuplas que contiene los elementos de cada iterable en el orden q los recibe.\n",
    "proporciones: list[float] = [x/y for x,y in zip(totales, registros)]\n",
    "proporciones # [2.0, 5.0, 2.5]"
   ]
  },
  {
   "cell_type": "code",
   "execution_count": 52,
   "metadata": {},
   "outputs": [
    {
     "data": {
      "text/plain": [
       "[(1, 'a'), (2, 'b'), (3, 'c')]"
      ]
     },
     "execution_count": 52,
     "metadata": {},
     "output_type": "execute_result"
    }
   ],
   "source": [
    "# Ejemplo de zip()\n",
    "from collections.abc import Iterable\n",
    "\n",
    "def mi_zip(*iterables: Iterable[any]) -> Iterator[tuple[any, ...]]:\n",
    "    return map(lambda *elementos: tuple(elementos), *iterables)\n",
    "\n",
    "list(mi_zip([1,2,3], ['a','b','c']))    # [(1, 'a'), (2, 'b'), (3, 'c')]"
   ]
  },
  {
   "cell_type": "markdown",
   "metadata": {},
   "source": [
    "#### **Filtrado**\n",
    "La función filter() es una función de orden superior, donde se aplica un predicado para generar una nueva colección con los elementos que cumplen la restricción."
   ]
  },
  {
   "cell_type": "markdown",
   "metadata": {},
   "source": [
    "Ejemplo de cómo podríamos filtrar una lista de números para obtener una lista con aquellos que son número par."
   ]
  },
  {
   "cell_type": "code",
   "execution_count": 54,
   "metadata": {},
   "outputs": [
    {
     "data": {
      "text/plain": [
       "[2, 4, 6]"
      ]
     },
     "execution_count": 54,
     "metadata": {},
     "output_type": "execute_result"
    }
   ],
   "source": [
    "def es_par(n: int) -> bool:\n",
    "    return n % 2 == 0\n",
    "\n",
    "xs = [1, 2, 3, 4, 5, 6]\n",
    "ys = []\n",
    "filter(es_par, xs)  # <filter at 0x1d2af1aed70>, iterador perezoso\n",
    "list(filter(es_par, xs))    # [2, 4, 6]"
   ]
  },
  {
   "cell_type": "markdown",
   "metadata": {},
   "source": [
    "Imaginemos que necesitamos obtener una lista con los outliers de una muestra, para nuestro caso utilizaremos la técnica de detección mediante el cálculo de Z-score de cada observación y marcando aquellas que superan 3 desvíos de la media."
   ]
  },
  {
   "cell_type": "code",
   "execution_count": 58,
   "metadata": {},
   "outputs": [
    {
     "data": {
      "text/plain": [
       "[15.38755886814691, -17.63251892076961, 16.615789044832425]"
      ]
     },
     "execution_count": 58,
     "metadata": {},
     "output_type": "execute_result"
    }
   ],
   "source": [
    "import numpy as np\n",
    "from pymonad.tools import curry\n",
    "from pymonad.reader import Compose\n",
    "\n",
    "@curry(3)\n",
    "def zscore(media: float, desvio: float, valor: float) -> float:\n",
    "    return (valor - media) / desvio\n",
    "\n",
    "def es_outlier(z_score: float, limite :float = 3) -> bool:\n",
    "    return z_score > limite or z_score < (limite * -1)\n",
    "\n",
    "# Generamos muestra random\n",
    "muestra = np.random.normal(0, 5, 1000)\n",
    "# Aplicamos parcialmente argumentos a zscore\n",
    "zscore_muestra = zscore(muestra.mean(), muestra.std())\n",
    "# Generamos nueva función predicado mediante la composición\n",
    "filtro_outlier = Compose(zscore_muestra).then(es_outlier)\n",
    "\n",
    "list(filter(filtro_outlier, muestra))   # lista con outliers"
   ]
  },
  {
   "cell_type": "markdown",
   "metadata": {},
   "source": [
    "El siguiente ejemplo produce el mismo resultado que el código previo utilizando una expresión generadora."
   ]
  },
  {
   "cell_type": "code",
   "execution_count": 59,
   "metadata": {},
   "outputs": [
    {
     "data": {
      "text/plain": [
       "[15.38755886814691, -17.63251892076961, 16.615789044832425]"
      ]
     },
     "execution_count": 59,
     "metadata": {},
     "output_type": "execute_result"
    }
   ],
   "source": [
    "[ x for x in muestra if es_outlier(zscore_muestra(x)) ]"
   ]
  },
  {
   "cell_type": "markdown",
   "metadata": {},
   "source": [
    "#### **Reducción**\n",
    "La función reduce() es una función de orden superior, donde se produce un valor a partir de la aplicación de una función acumuladora/combinadora/reductora sobre una estructura iterable."
   ]
  },
  {
   "cell_type": "code",
   "execution_count": 63,
   "metadata": {},
   "outputs": [
    {
     "data": {
      "text/plain": [
       "13"
      ]
     },
     "execution_count": 63,
     "metadata": {},
     "output_type": "execute_result"
    }
   ],
   "source": [
    "from functools import reduce\n",
    "\n",
    "def contar_letras(acumulado: int, elemento: str) -> int:\n",
    "    return acumulado + len(elemento)\n",
    "\n",
    "reduce(contar_letras, ['casa', 'puente', 'ojo'], 0)     # 13"
   ]
  },
  {
   "cell_type": "markdown",
   "metadata": {},
   "source": [
    "valor_reducido = 0\n",
    "    contar_letras(0, 'casa')            # valor_reducido: 4\n",
    "        contar_letras(4, 'puente')      # valor_reducido: 10\n",
    "            contar_letras(10, 'ojo')    # valor_reducido: 13"
   ]
  },
  {
   "cell_type": "code",
   "execution_count": null,
   "metadata": {},
   "outputs": [],
   "source": [
    "from functools import reduce\n",
    "\n",
    "xs = [3, 4, 1, 0, 11, 7, 5, 6]\n",
    "# sum(xs)\n",
    "reduce(lambda x, y: x + y, xs, 0)   # 37\n",
    "# max(xs)\n",
    "reduce(lambda x, y: x if x > y else y, xs)  # 11"
   ]
  },
  {
   "cell_type": "markdown",
   "metadata": {},
   "source": [
    "La versión que realiza la suma de elementos utiliza 3 argumentos: **la función acumuladora que suma, la lista y el valor inicial**. La segunda versión que realiza la obtención del máximo utiliza 2 argumentos, **sólo la función acumuladora y la lista**."
   ]
  },
  {
   "cell_type": "markdown",
   "metadata": {},
   "source": [
    " Lo importante aquí es comprender que el primer argumento **x corresponde al valor acumulado de la reducción**, mientras que el argumento **y es el elemento actual de la iteración**. Entonces el primer parámetro puede ser de otro tipo, pero siempre debe coincidir con el tipo de dato de retorno."
   ]
  }
 ],
 "metadata": {
  "kernelspec": {
   "display_name": "Python 3",
   "language": "python",
   "name": "python3"
  },
  "language_info": {
   "codemirror_mode": {
    "name": "ipython",
    "version": 3
   },
   "file_extension": ".py",
   "mimetype": "text/x-python",
   "name": "python",
   "nbconvert_exporter": "python",
   "pygments_lexer": "ipython3",
   "version": "3.11.0"
  }
 },
 "nbformat": 4,
 "nbformat_minor": 2
}
