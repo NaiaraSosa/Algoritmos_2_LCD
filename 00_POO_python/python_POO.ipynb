{
 "cells": [
  {
   "cell_type": "markdown",
   "metadata": {},
   "source": [
    "## **POO en Python**"
   ]
  },
  {
   "cell_type": "markdown",
   "metadata": {},
   "source": [
    "### **Clases**"
   ]
  },
  {
   "cell_type": "code",
   "execution_count": 18,
   "metadata": {},
   "outputs": [],
   "source": [
    "# Veamos un ejemplo de definición de una clase con su contructor\n",
    "\n",
    "class Persona:\n",
    "    contador_personas = 0    # atributo de clase\n",
    "    \n",
    "    def __init__(self, nombre, apellido, edad):\n",
    "        self.nombre = nombre # atributo de instancia\n",
    "        self.apellido = apellido # atributo de instancia\n",
    "        self.edad = edad     # atributo de instancia\n",
    "        Persona.contador_personas += 1\n",
    "    \n",
    "    # método de instancia\n",
    "    def nombre_completo(self):\n",
    "        return f'{self.nombre} {self.apellido}'\n",
    "    \n",
    "    # método de clase\n",
    "    @classmethod\n",
    "    def personas_creadas(cls):\n",
    "        return cls.contador_personas\n",
    "    \n",
    "    # método estático\n",
    "    @staticmethod\n",
    "    def a_minusculas(cadena):\n",
    "        return cadena.lower()"
   ]
  },
  {
   "cell_type": "code",
   "execution_count": null,
   "metadata": {},
   "outputs": [],
   "source": [
    "# Para instanciar un objeto de la clase llamamos al nombre de la clase y los argumentos que lo construyen:\n",
    "\n",
    "juana = Persona(\"Juana\", \"López\", 23)    \n",
    "print(juana)                    # <__main__.Persona at 0x1d2bd5b1750> -- clase y dirección de memoria en hexadecimal"
   ]
  },
  {
   "cell_type": "markdown",
   "metadata": {},
   "source": [
    "#### **Atributos de clase e instancia**"
   ]
  },
  {
   "cell_type": "code",
   "execution_count": null,
   "metadata": {},
   "outputs": [],
   "source": [
    "juana = Persona(\"Juana\", \"López\", 23) \n",
    "hugo = Persona(\"Hugo\", \"Sosa\", 35) \n",
    "\n",
    "print(juana.nombre)             # Juana\n",
    "print(juana.edad)               # 23\n",
    "Persona.contador_personas       # 2\n",
    "print(juana.contador_personas)  # 2\n",
    "print(hugo.contador_personas)   # 2"
   ]
  },
  {
   "cell_type": "markdown",
   "metadata": {},
   "source": [
    "#### **Métodos de clase e instancia**"
   ]
  },
  {
   "cell_type": "code",
   "execution_count": 17,
   "metadata": {},
   "outputs": [
    {
     "data": {
      "text/plain": [
       "2"
      ]
     },
     "execution_count": 17,
     "metadata": {},
     "output_type": "execute_result"
    }
   ],
   "source": [
    "juana.nombre_completo()             # 'Juana Lopez'\n",
    "hugo.nombre_completo()              # 'Hugo Sosa'\n",
    "Persona.personas_creadas()          # 2\n",
    "juana.personas_creadas()            # 2"
   ]
  },
  {
   "cell_type": "markdown",
   "metadata": {},
   "source": [
    "#### **Método static**"
   ]
  },
  {
   "cell_type": "code",
   "execution_count": null,
   "metadata": {},
   "outputs": [],
   "source": [
    "Persona.a_minusculas('Probando Método Estático')  # 'probando método estático'"
   ]
  },
  {
   "cell_type": "markdown",
   "metadata": {},
   "source": [
    "#### **Método especiales**"
   ]
  },
  {
   "cell_type": "code",
   "execution_count": 38,
   "metadata": {},
   "outputs": [
    {
     "data": {
      "text/plain": [
       "True"
      ]
     },
     "execution_count": 38,
     "metadata": {},
     "output_type": "execute_result"
    }
   ],
   "source": [
    "class Persona:\n",
    "    \n",
    "    def __init__(self, nombre, edad):\n",
    "        self.nombre = nombre # atributo de instancia\n",
    "        self.edad = edad     # atributo de instancia\n",
    "\n",
    "    def __repr__(self):\n",
    "        return f'<{self.__class__.__name__}(\"{self.nombre}\",\"{self.edad}\")>'\n",
    "    \n",
    "    def __str__(self):\n",
    "        return f'Nombre: {self.nombre}, Edad: {self.edad} años'\n",
    "    \n",
    "    def __eq__(self, otro):\n",
    "        return isinstance(otro, Persona) and self.nombre == otro.nombre and self.edad == otro.edad\n",
    "    \n",
    "    def __hash__(self):\n",
    "        return hash((self.nombre, self.edad))\n",
    "    \n",
    "naiara = Persona(\"Naiara\", 21)     # <Persona(\"Naiara\",\"21\")> con el __repr__\n",
    "naiara2 = Persona(\"Naiara\", 21)    # Nombre: Naiara, Edad: 21 años con el __str__ (prioridad)\n",
    "\n",
    "naiara == naiara2                  # True (sin sobreescribir era falso)\n"
   ]
  },
  {
   "cell_type": "code",
   "execution_count": 39,
   "metadata": {},
   "outputs": [
    {
     "data": {
      "text/plain": [
       "0"
      ]
     },
     "execution_count": 39,
     "metadata": {},
     "output_type": "execute_result"
    }
   ],
   "source": [
    "class MiContenedor:\n",
    "    def __init__(self):\n",
    "        self.elementos = []\n",
    "\n",
    "    def __len__(self):\n",
    "        return len(self.elementos)\n",
    "    \n",
    "contenedor = MiContenedor()\n",
    "len(contenedor)     # 0"
   ]
  },
  {
   "cell_type": "code",
   "execution_count": 40,
   "metadata": {},
   "outputs": [
    {
     "data": {
      "text/plain": [
       "'ESTO ES UNA PRUEBA'"
      ]
     },
     "execution_count": 40,
     "metadata": {},
     "output_type": "execute_result"
    }
   ],
   "source": [
    "class FormateadorMayusculas:\n",
    "    def __init__(self):\n",
    "        self.texto = ''\n",
    "\n",
    "    def __call__(self, texto: str) -> str:\n",
    "        return texto.upper()\n",
    "    \n",
    "a_mayusculas = FormateadorMayusculas()\n",
    "a_mayusculas('esto es una prueba')      # 'ESTO ES UNA PRUEBA'"
   ]
  },
  {
   "cell_type": "markdown",
   "metadata": {},
   "source": [
    "#### **Atributos -> Propiedades**"
   ]
  },
  {
   "cell_type": "code",
   "execution_count": null,
   "metadata": {},
   "outputs": [],
   "source": [
    "''' En nuestra clase decidimos ocultar los atributos con la convención de nombre y luego los convertimos en propiedades para accederlos \n",
    "y modificarlos desde métodos. '''\n",
    "\n",
    "class Punto:\n",
    "    def __init__(self, x: int | float, y: int | float) -> None:\n",
    "        self._x: int | float = x\n",
    "        self._y: int | float = y\n",
    "\n",
    "    @property\n",
    "    def x(self) -> int | float:\n",
    "        return self._x\n",
    "\n",
    "    @x.setter\n",
    "    def x(self, valor: int | float) -> None:\n",
    "        self._x = Punto._validar(valor)\n",
    "\n",
    "    @property\n",
    "    def y(self) -> int | float:\n",
    "        return self._y\n",
    "\n",
    "    @y.setter\n",
    "    def y(self, valor: int | float) -> None:\n",
    "        self._y = Punto._validar(valor)\n",
    "\n",
    "    @staticmethod\n",
    "    def _validar(valor: int | float) -> int | float:\n",
    "        if not isinstance(valor, int | float):\n",
    "            raise ValueError(\"Debe ser un número\")\n",
    "        return valor\n",
    "    \n",
    "p = Punto(3, 2)\n",
    "p.x                 # 3\n",
    "p.x = 11            # Invoca al setter de x\n",
    "p.x                 # 11\n",
    "p.x = 'a'           # ValueError: Debe ser un número"
   ]
  },
  {
   "cell_type": "markdown",
   "metadata": {},
   "source": [
    "### **Herencia**"
   ]
  },
  {
   "cell_type": "code",
   "execution_count": 46,
   "metadata": {},
   "outputs": [
    {
     "data": {
      "text/plain": [
       "True"
      ]
     },
     "execution_count": 46,
     "metadata": {},
     "output_type": "execute_result"
    }
   ],
   "source": [
    "class Persona:\n",
    "    def __init__(self, nombre, apellido):\n",
    "        self.nombre = nombre\n",
    "        self.apellido = apellido\n",
    "\n",
    "    def __str__(self):\n",
    "        return f'{self.nombre} {self.apellido}'\n",
    "    \n",
    "class Estudiante(Persona):\n",
    "    def __init__(self, nombre, apellido, matricula):\n",
    "        super().__init__(nombre, apellido)  # Invoca inicializador de Persona\n",
    "        self.matricula = matricula\n",
    "\n",
    "    # SOBREESCRITURA\n",
    "    def __str__(self):\n",
    "        return f'Estudiante {super().__str__()}'\n",
    "\n",
    "class Docente(Persona):\n",
    "    pass\n",
    "\n",
    "# A diferencia de Java, en Python podemos heredar de múltiples clases a la vez, separando las superclases con comas.\n",
    "\n",
    "class UserCampus(Estudiante, Docente):  \n",
    "    pass\n",
    "\n",
    "juana = Estudiante(\"Juana\", \"Lopez\", 1234)\n",
    "isinstance(juana, Estudiante)   # True\n",
    "isinstance(juana, Persona)      # True\n",
    "isinstance(juana, object)       # True"
   ]
  },
  {
   "cell_type": "code",
   "execution_count": 47,
   "metadata": {},
   "outputs": [
    {
     "name": "stdout",
     "output_type": "stream",
     "text": [
      "Vehículo: Toyota Corolla\n",
      "Color: Rojo\n",
      "Auto acelerando\n",
      "Frenando\n",
      "Vehículo: Zanella ZT\n",
      "Cilindrada: 150cc\n",
      "Acelerando\n",
      "Moto frenando\n",
      "Vehículo: Vairo XR 3.5\n",
      "Tipo: Montaña\n",
      "Frenando\n"
     ]
    }
   ],
   "source": [
    "# Veamos un último ejemplo sencillo combinando los conceptos vistos.\n",
    "\n",
    "class Vehiculo:\n",
    "    def __init__(self, marca, modelo):\n",
    "        self.marca = marca\n",
    "        self.modelo = modelo\n",
    "\n",
    "    def mostrar_info(self):\n",
    "        print(f'Vehículo: {self.marca} {self.modelo}')\n",
    "\n",
    "    def acelerar(self):\n",
    "        print('Acelerando')\n",
    "\n",
    "    def frenar(self):\n",
    "        print('Frenando')\n",
    "\n",
    "class Auto(Vehiculo):\n",
    "    def __init__(self, marca, modelo, color):\n",
    "        super().__init__(marca, modelo)\n",
    "        self.color = color\n",
    "\n",
    "    def mostrar_info(self):\n",
    "        super().mostrar_info()\n",
    "        print(f'Color: {self.color}')\n",
    "\n",
    "    def acelerar(self):\n",
    "        print('Auto acelerando')\n",
    "\n",
    "class Moto(Vehiculo):\n",
    "    def __init__(self, marca, modelo, cilindrada):\n",
    "        super().__init__(marca, modelo)\n",
    "        self.cilindrada = cilindrada\n",
    "\n",
    "    def mostrar_info(self):\n",
    "        super().mostrar_info()\n",
    "        print(f'Cilindrada: {self.cilindrada}')\n",
    "\n",
    "    def frenar(self):\n",
    "        print('Moto frenando')\n",
    "\n",
    "class Bicicleta(Vehiculo):\n",
    "    def __init__(self, marca, modelo, tipo):\n",
    "        super().__init__(marca, modelo)\n",
    "        self.tipo = tipo\n",
    "\n",
    "    def mostrar_info(self):\n",
    "        super().mostrar_info()\n",
    "        print(f'Tipo: {self.tipo}')\n",
    "\n",
    "\n",
    "auto = Auto(\"Toyota\", \"Corolla\", \"Rojo\")\n",
    "moto = Moto(\"Zanella\", \"ZT\", \"150cc\")\n",
    "bicicleta = Bicicleta(\"Vairo\", \"XR 3.5\", \"Montaña\")\n",
    "\n",
    "auto.mostrar_info()         # Vehículo: Toyota Corolla\n",
    "                            # Color: Rojo\n",
    "auto.acelerar()             # Auto acelerando\n",
    "auto.frenar()               # Frenando\n",
    "\n",
    "moto.mostrar_info()         # Vehículo: Zanella ZT\n",
    "                            # Cilindrada: 150cc\n",
    "moto.acelerar()             # Acelerando\n",
    "moto.frenar()               # Moto frenando\n",
    "\n",
    "bicicleta.mostrar_info()    # Vehículo: Vairo XR 3.5 \n",
    "                            # Tipo: Montaña\n",
    "bicicleta.frenar()          # Frenando"
   ]
  },
  {
   "cell_type": "markdown",
   "metadata": {},
   "source": [
    "### **Clases abstractas**"
   ]
  },
  {
   "cell_type": "code",
   "execution_count": 48,
   "metadata": {},
   "outputs": [],
   "source": [
    "# Abstract Base Classes\n",
    "from abc import ABC    \n",
    "\n",
    "class MiClaseAbstracta(ABC):\n",
    "    pass"
   ]
  },
  {
   "cell_type": "code",
   "execution_count": null,
   "metadata": {},
   "outputs": [],
   "source": [
    "# Decorador @abstractmethod para forzar el comportamiento abstracto\n",
    "\n",
    "from abc import ABC, abstractmethod\n",
    "\n",
    "class Vehiculo(ABC):\n",
    "    def __init__(self, marca, modelo):\n",
    "        self.marca = marca\n",
    "        self.modelo = modelo\n",
    "\n",
    "    @abstractmethod\n",
    "    def mostrar_info(self):\n",
    "        raise NotImplementedError\n",
    "\n",
    "vehiculo = Vehiculo(\"Toyota\", \"Corolla\")    # TypeError: Can't instantiate abstract class Vehiculo with abstract method mostrar_info\n",
    "\n",
    "# Si no definimos el método mostrar_info() como abstracto, entonces podríamos instanciar a Vehiculo a pesar de modelarla como una clase abstracta."
   ]
  },
  {
   "cell_type": "markdown",
   "metadata": {},
   "source": [
    "### **Comparadores**\n",
    "\n",
    "En Python podemos definir el comportamiento de comparación entre objetos utilizando métodos especiales."
   ]
  },
  {
   "cell_type": "code",
   "execution_count": 50,
   "metadata": {},
   "outputs": [
    {
     "data": {
      "text/plain": [
       "False"
      ]
     },
     "execution_count": 50,
     "metadata": {},
     "output_type": "execute_result"
    }
   ],
   "source": [
    "'''\n",
    "Supongamos que queremos crear una clase Punto que represente un punto en un plano cartesiano, y queremos que los puntos se puedan comparar \n",
    "entre sí en función de sus coordenadas x e y.\n",
    "'''\n",
    "\n",
    "class Punto:\n",
    "    def __init__(self, x: float, y: float):\n",
    "        self.x: float = x\n",
    "        self.y: float = y\n",
    "\n",
    "    def __eq__(self, otro: \"Punto\"):\n",
    "        return self.x == otro.x and self.y == otro.y\n",
    "\n",
    "    def __lt__(self, otro: \"Punto\"):\n",
    "        return self.x < otro.x or self.y < otro.y\n",
    "\n",
    "    def __le__(self, otro: \"Punto\"):\n",
    "        return self == otro or self.x < otro.x or self.y < otro.y\n",
    "    \n",
    "p1 = Punto(1, 3)\n",
    "p2 = Punto(1, 4)\n",
    "\n",
    "p1 == p2    # False\n",
    "p1 != p2    # True\n",
    "p1 > p2     # False\n",
    "p1 < p2     # True\n",
    "p1 <= p2    # True\n",
    "p1 >= p2    # False"
   ]
  },
  {
   "cell_type": "markdown",
   "metadata": {},
   "source": [
    "### **Funciones internas**"
   ]
  },
  {
   "cell_type": "code",
   "execution_count": null,
   "metadata": {},
   "outputs": [],
   "source": [
    "def funcion_externa():\n",
    "    def funcion_interna():\n",
    "        return \"Esta es una funcion interna.\"\n",
    "\n",
    "    return funcion_interna()\n",
    "\n",
    "print(funcion_externa())  # \"Esta es una funcion interna.\"\n",
    "print(funcion_interna())  # NameError: name 'funcion_interna' is not defined"
   ]
  },
  {
   "cell_type": "code",
   "execution_count": 51,
   "metadata": {},
   "outputs": [
    {
     "data": {
      "text/plain": [
       "[2.0, 5.0, 9.0]"
      ]
     },
     "execution_count": 51,
     "metadata": {},
     "output_type": "execute_result"
    }
   ],
   "source": [
    "# Ejemplo de función de ayuda (helper)\n",
    "\n",
    "def calcular_medias(*args: list[int]) -> list[float]:\n",
    "    def media(xs: list[int]) -> float:\n",
    "        return sum(xs) / len(xs) if len(xs) > 0 else 0\n",
    "    \n",
    "    medias: list[float] = []\n",
    "    for lista in args:\n",
    "        medias.append(media(lista))\n",
    "    \n",
    "    return medias\n",
    "\n",
    "calcular_medias([1,2,3], [4,5,6], [7,8,9,10,11])    # [2.0, 5.0, 9.0]\n",
    "\n",
    "'''\n",
    "Al definir una función interna media() escribimos en un único lugar la lógica del cálculo de la media para ser utilizado dentro de la \n",
    "función externa y facilitamos la lectura y mantenibilidad.\n",
    "'''"
   ]
  },
  {
   "cell_type": "code",
   "execution_count": null,
   "metadata": {},
   "outputs": [],
   "source": [
    "# Veamos otro caso\n",
    "\n",
    "def procesar_datos(datos: list[str]) -> list[int]:\n",
    "    def filtrar_negativos(numeros: list[int|None]) -> list[int]:\n",
    "        return [num for num in numeros if num is not None and num >= 0]\n",
    "    \n",
    "    def limpiar_no_enteros(textos: list[str]) -> list[int|None]:\n",
    "        return list(map(lambda x: int(x) if x.isdigit() else None, textos))\n",
    "    \n",
    "    filtrados = limpiar_no_enteros(datos)\n",
    "    return filtrar_negativos(filtrados)\n",
    "\n",
    "procesar_datos(['1', 'a', '2.4', '-3', 'x', '4', '9']) # [1, 4, 9]"
   ]
  },
  {
   "cell_type": "code",
   "execution_count": 56,
   "metadata": {},
   "outputs": [
    {
     "name": "stdout",
     "output_type": "stream",
     "text": [
      "Parametro externo: 1, Parametro interno: 2\n"
     ]
    }
   ],
   "source": [
    "def funcion_externa(parametro_externo):\n",
    "    def funcion_interna(parametro_interno):\n",
    "        return f'Parametro externo: {parametro_externo}, Parametro interno: {parametro_interno}'\n",
    "    \n",
    "    return funcion_interna\n",
    "\n",
    "clausura = funcion_externa(1)\n",
    "print(clausura(2))  # Parametro externo: 1, Parametro interno: 2"
   ]
  },
  {
   "cell_type": "code",
   "execution_count": null,
   "metadata": {},
   "outputs": [],
   "source": [
    "# Veamos otro ejemplo de clausura\n",
    "\n",
    "def crear_contador():\n",
    "    contador = 0\n",
    "    \n",
    "    def valor_actual():\n",
    "        nonlocal contador\n",
    "        return contador\n",
    "\n",
    "    def incrementar():\n",
    "        nonlocal contador\n",
    "        contador += 1\n",
    "        return contador\n",
    "    \n",
    "    def decrementar():\n",
    "        nonlocal contador\n",
    "        contador -= 1\n",
    "        return contador\n",
    "\n",
    "    return valor_actual, incrementar, decrementar\n",
    "\n",
    "valor_actual, incrementar, decrementar = crear_contador()\n",
    "\n",
    "print(valor_actual()) # 0\n",
    "print(incrementar())  # 1\n",
    "print(incrementar())  # 2\n",
    "print(incrementar())  # 3\n",
    "print(decrementar())  # 2"
   ]
  },
  {
   "cell_type": "markdown",
   "metadata": {},
   "source": [
    "### **Decoradores**\n",
    "\n",
    "La idea de los decoradores es aplicar cierta transformación a una función al momento de definirla, extender de alguna forma su funcionalidad."
   ]
  },
  {
   "cell_type": "code",
   "execution_count": 60,
   "metadata": {},
   "outputs": [
    {
     "data": {
      "text/plain": [
       "'#abcdef#'"
      ]
     },
     "execution_count": 60,
     "metadata": {},
     "output_type": "execute_result"
    }
   ],
   "source": [
    "# Veamos un ejemplo, si quisiéramos hacer un decorador que agregue un caracter '#' al principio y al final de una cadena:\n",
    "\n",
    "from collections.abc import Callable\n",
    "from typing import Any\n",
    "\n",
    "def add_numerales(funcion_original: Callable[..., str]) -> Callable[..., str]:\n",
    "    def add_numerales_inner(*args: Any, **kwargs: Any) -> str:\n",
    "        return '#' + funcion_original(*args, **kwargs) + '#'\n",
    "    return add_numerales_inner\n",
    "\n",
    "@add_numerales\n",
    "def concat_cadenas(c1: str, c2: str) -> str:\n",
    "    return c1 + c2\n",
    "\n",
    "concat_cadenas('abc', 'def')    # Salida: '#abcdef#'"
   ]
  },
  {
   "cell_type": "markdown",
   "metadata": {},
   "source": [
    "Si quisiéramos preservar la información de la función original, debemos utilizar el decorador functools.wraps en nuestra función interna."
   ]
  },
  {
   "cell_type": "code",
   "execution_count": 62,
   "metadata": {},
   "outputs": [],
   "source": [
    "# Suele ser recomendable utilizar siempre el decorador functools.wraps() para la función interna de un decorador.\n",
    "from functools import wraps\n",
    "from typing import Any\n",
    "\n",
    "def add_numerales(funcion_original: Callable[..., str]) -> Callable[..., str]:\n",
    "    @wraps(funcion_original)\n",
    "    def add_numerales_inner(*args: Any, **kwargs: Any) -> str:\n",
    "        return '#' + funcion_original(*args, **kwargs) + '#'\n",
    "    return add_numerales_inner"
   ]
  },
  {
   "cell_type": "markdown",
   "metadata": {},
   "source": [
    "Veamos otro ejemplo clásico, puede resultar útil medir el tiempo que tarda en ejecutarse una función, por lo cual podemos definir un decorador que incorpore esta funcionalidad."
   ]
  },
  {
   "cell_type": "code",
   "execution_count": 63,
   "metadata": {},
   "outputs": [
    {
     "name": "stdout",
     "output_type": "stream",
     "text": [
      "Tiempo de ejecución: 1.0019171237945557 segs\n"
     ]
    }
   ],
   "source": [
    "import time\n",
    "from functools import wraps\n",
    "from typing import Any\n",
    "\n",
    "def medir_tiempo(funcion: Callable[..., Any]) -> Callable[..., Any]:\n",
    "    @wraps(funcion)\n",
    "    def wrapper(*args: Any, **kwargs: Any) -> Any:\n",
    "        inicio: float = time.time()\n",
    "        resultado: Any = funcion(*args, **kwargs)\n",
    "        print(f'Tiempo de ejecución: {time.time() - inicio} segs')\n",
    "        return resultado\n",
    "    return wrapper\n",
    "\n",
    "@medir_tiempo\n",
    "def test():\n",
    "    time.sleep(1)\n",
    "\n",
    "test()      # Tiempo de ejecución: 1.0011136531829834 segs"
   ]
  },
  {
   "cell_type": "markdown",
   "metadata": {},
   "source": [
    "##### Parametrizando decoradores\n",
    "\n",
    "Veamos cómo podríamos extender el decorador previo para que le podamos indicar si deseamos registrar el tiempo de ejecución en nanosegundos en lugar de segundos."
   ]
  },
  {
   "cell_type": "code",
   "execution_count": 64,
   "metadata": {},
   "outputs": [
    {
     "name": "stdout",
     "output_type": "stream",
     "text": [
      "Tiempo de ejecución: 1008226700 ns\n"
     ]
    }
   ],
   "source": [
    "import time\n",
    "from functools import wraps\n",
    "\n",
    "def medir_tiempo(en_ns: bool = False) -> Callable[[Callable[..., Any]], Callable[..., Any]]:\n",
    "    def medir_tiempo_deco(funcion: Callable[..., Any]) -> Callable[..., Any]:\n",
    "        @wraps(funcion)\n",
    "        def wrapper(*args: Any, **kwargs: Any) -> Any:\n",
    "            inicio: float = time.time_ns() if en_ns else time.time()\n",
    "            resultado: Any = funcion(*args, **kwargs)\n",
    "            fin: float = time.time_ns() if en_ns else time.time()\n",
    "            print(f'Tiempo de ejecución: {fin - inicio} {\"ns\" if en_ns else \"segs\"}')\n",
    "            return resultado\n",
    "        return wrapper\n",
    "    \n",
    "    return medir_tiempo_deco\n",
    "\n",
    "@medir_tiempo(en_ns=True)\n",
    "def test():\n",
    "    time.sleep(1)\n",
    "\n",
    "test()      # Tiempo de ejecución: 1000562400 ns"
   ]
  },
  {
   "cell_type": "markdown",
   "metadata": {},
   "source": [
    "Es importante que verifiquemos que el tipo de dato de retorno de una función decoradora con parámetros debe ser una función (Callable) que reciba como parámetro una función con los parámetros y retorno de la que vamos a decorar, y retorne la misma firma de esa función. "
   ]
  },
  {
   "cell_type": "markdown",
   "metadata": {},
   "source": [
    "En este ejemplo definimos un decorador para adaptar funciones con firma float -> str para incorporarles * repetidos al principio y final de la cadena resultante."
   ]
  },
  {
   "cell_type": "code",
   "execution_count": 65,
   "metadata": {},
   "outputs": [
    {
     "data": {
      "text/plain": [
       "'***2.4000***'"
      ]
     },
     "execution_count": 65,
     "metadata": {},
     "output_type": "execute_result"
    }
   ],
   "source": [
    "def asteriscos(p: int) -> Callable[[Callable[[float], str]], Callable[[float], str]]:\n",
    "    def asteriscos_deco(f: Callable[[float], str]) -> Callable[[float], str]:\n",
    "        def wrapper(x: float) -> str:\n",
    "            return p * '*' + f(x) + p * '*'\n",
    "        return wrapper\n",
    "    return asteriscos_deco\n",
    "\n",
    "@asteriscos(3)\n",
    "def float_to_str(x: float) -> str:\n",
    "    return '{:.4f}'.format(x)\n",
    "\n",
    "float_to_str(2.4)   # '***2.4000***'"
   ]
  },
  {
   "cell_type": "markdown",
   "metadata": {},
   "source": [
    "### **Excepciones**"
   ]
  },
  {
   "cell_type": "markdown",
   "metadata": {},
   "source": [
    "Veremos un ejemplo de cómo manejar un lanzamiento de excepciones:"
   ]
  },
  {
   "cell_type": "code",
   "execution_count": 68,
   "metadata": {},
   "outputs": [
    {
     "name": "stdout",
     "output_type": "stream",
     "text": [
      "Error: No se puede dividir por cero\n"
     ]
    }
   ],
   "source": [
    "def dividir(a, b):\n",
    "    if b == 0:\n",
    "        raise ZeroDivisionError('No se puede dividir por cero')\n",
    "    return a / b\n",
    "\n",
    "try:\n",
    "    resultado = dividir(10, 0)\n",
    "except ZeroDivisionError as e:\n",
    "    print('Error:', e)              # Error: No se puede dividir por cero"
   ]
  },
  {
   "cell_type": "markdown",
   "metadata": {},
   "source": [
    "## **Type Hints en Python**"
   ]
  },
  {
   "cell_type": "markdown",
   "metadata": {},
   "source": [
    "Se utilizan escribiendo por ejemplo, nombre_variable : tipo_de_dato. \n",
    "En el caso de anotar un tipo de dato de retorno se utiliza -> tipo_de_dato.\n"
   ]
  },
  {
   "cell_type": "code",
   "execution_count": null,
   "metadata": {},
   "outputs": [],
   "source": [
    "def potencia(base: float, exponente: int) -> float:\n",
    "    return base ** exponente\n",
    "\n",
    "potencia(10, 2)     # 100"
   ]
  },
  {
   "cell_type": "markdown",
   "metadata": {},
   "source": [
    "Notemos que aún si invocamos la operación con tipos incompatibles con los declarados en la firma, Python aún permite la evaluación de la función."
   ]
  },
  {
   "cell_type": "code",
   "execution_count": null,
   "metadata": {},
   "outputs": [],
   "source": [
    "var: int = 45   # ok\n",
    "var = 4.3  # Expression of type \"float\" cannot be assigned to declared type \"int\"\n",
    "var = 'a'  # Expression of type \"str\" cannot be assigned to declared type \"int\"\n",
    "var = [1]  # Expression of type \"list[int]\" cannot be assigned to declared type \"int\"\n",
    "__annotations__     # {'var': int}, guarda la información referida a los type hints "
   ]
  },
  {
   "cell_type": "markdown",
   "metadata": {},
   "source": [
    "#### **Colecciones**"
   ]
  },
  {
   "cell_type": "code",
   "execution_count": null,
   "metadata": {},
   "outputs": [],
   "source": [
    "# Listas\n",
    "\n",
    "xs: list[int] = [1, 3, 4]\n",
    "ys: list[str] = ['a', 'b', 'c']"
   ]
  },
  {
   "cell_type": "markdown",
   "metadata": {},
   "source": [
    "Recordemos que un set requiere que sus elementos sean hasheables para poder determinar su identidad, por lo cual el tipo debe implementar el método __hash__(). El tipo list no lo tiene implementado y por lo tanto no puede ser utilizado en un set, pero sí tuple que es inmutable."
   ]
  },
  {
   "cell_type": "code",
   "execution_count": null,
   "metadata": {},
   "outputs": [],
   "source": [
    "# Conjuntos\n",
    "\n",
    "s1: set[int] = {1, 2, 4}\n",
    "s2: set[str] = {'a', 'b', 'c'}\n",
    "s3: set[list[int]] = {[1,2], [3,5]}     # TypeError: unhashable type: 'list'\n",
    "s4: set[tuple[int, ...]] = {(1,2), (3,5)}    # ok"
   ]
  },
  {
   "cell_type": "markdown",
   "metadata": {},
   "source": [
    "Similar al caso previo, los tipos dict necesitan valores hasheables como claves, ya que lo utilizan para determinar la ubicación indexada de un elemento. Por lo tanto, no podemos utilizar list como clave, pero sí tuple que es inmutable."
   ]
  },
  {
   "cell_type": "code",
   "execution_count": null,
   "metadata": {},
   "outputs": [],
   "source": [
    "# Diccionarios \n",
    "\n",
    "d1: dict[str, float] = {'a': 2.1, 'b': 3.4}\n",
    "d2: dict[int, list[str]] = {1: ['a','b'], 2: ['c','d']}\n",
    "d3: dict[list[int], int] = {[1,2]: 0, [3,5]: 1}     # TypeError: unhashable type: 'list'\n",
    "d3: dict[tuple[int, ...], int] = {(1,2): 0, (3,5): 1}   # ok"
   ]
  },
  {
   "cell_type": "markdown",
   "metadata": {},
   "source": [
    "#### **Tipos de construcción**\n",
    "\n",
    "Python ofrece un conjunto de tipos predefinidos que nos facilitan la creación de nuevos tipos para anotar nuestro código."
   ]
  },
  {
   "cell_type": "markdown",
   "metadata": {},
   "source": [
    "***Any***\n",
    "\n",
    "Todo tipo de dato es compatible con el tipo Any y viceversa, por lo cual podemos realizar cualquier operación sobre una variable con este tipo anotado y asignarlo a otra variable de cualquier tipo (no se realiza verificación de tipo en ese caso)."
   ]
  },
  {
   "cell_type": "code",
   "execution_count": null,
   "metadata": {},
   "outputs": [],
   "source": [
    "from typing import Any\n",
    "\n",
    "variable_any: Any = None    # ok\n",
    "variable_any = 4            # ok\n",
    "variable_any = (1, 3,)      # ok\n",
    "variable_any = [1, 2, 3]    # ok\n",
    "len(variable_any)           # ok\n",
    "\n",
    "variable_int: int = 9\n",
    "variable_int = variable_any # ok, no se verifica asignación de Any\n",
    "\n",
    "def operacion(parametro_any: Any) -> str:\n",
    "    return parametro_any.metodo1()      # ok, no verifica si existe método1"
   ]
  },
  {
   "cell_type": "markdown",
   "metadata": {},
   "source": [
    "***Union[t1, t2, ...]***\n",
    "\n",
    "El tipo Union permite identificar tipos de datos que son subtipos de al menos uno de los tipos incluidos en la unión."
   ]
  },
  {
   "cell_type": "code",
   "execution_count": 69,
   "metadata": {},
   "outputs": [],
   "source": [
    "from typing import Union\n",
    "def mi_funcion(x: Union[float, str]):\n",
    "    pass\n",
    "\n",
    "mi_funcion(4)           # ok\n",
    "mi_funcion(3.6)         # ok\n",
    "mi_funcion('prueba')    # ok"
   ]
  },
  {
   "cell_type": "code",
   "execution_count": null,
   "metadata": {},
   "outputs": [],
   "source": [
    "# También podemos usar la notación | que puede ser más amigable\n",
    "def potencia(base: int | float, exponente: int | float) -> int | float:\n",
    "    return base ** exponente"
   ]
  },
  {
   "cell_type": "markdown",
   "metadata": {},
   "source": [
    "***Optional***\n",
    "\n",
    "El tipo Optional[X] es análogo a X | None o Union[X, None], donde se representa la posibilidad de tener un valor o no. "
   ]
  },
  {
   "cell_type": "code",
   "execution_count": null,
   "metadata": {},
   "outputs": [],
   "source": [
    "from typing import Optional\n",
    "\n",
    "def division(x: int, y: int) -> Optional[float]:\n",
    "    if y == 0:\n",
    "        return None\n",
    "    return x / y\n",
    "\n",
    "division(9, 4)      # 2.25\n",
    "division(10, 0)     # None"
   ]
  },
  {
   "cell_type": "markdown",
   "metadata": {},
   "source": [
    "***Callable***\n",
    "\n",
    "Las funciones y el resto de objetos invocables, aquellos que implementan el método especial __call__(), pueden anotarse utilizando collections.abc.Callable.\n",
    "\n",
    "Callable[[tipo_param_1, tipo_param_2, tipo_param_3], tipo_retorno]"
   ]
  },
  {
   "cell_type": "code",
   "execution_count": null,
   "metadata": {},
   "outputs": [],
   "source": [
    "from collections.abc import Callable\n",
    "\n",
    "def procedimiento() -> None:\n",
    "    pass\n",
    "\n",
    "def mi_funcion(x: int) -> int:\n",
    "    pass\n",
    "\n",
    "def funcion_superior(f: Callable[[int], int]):\n",
    "    return f\n",
    "\n",
    "funcion_superior(mi_funcion)    # ok\n",
    "funcion_superior(procedimiento) # Argument of type \"() -> None\" cannot be assigned to parameter"
   ]
  },
  {
   "cell_type": "markdown",
   "metadata": {},
   "source": [
    "Si deseamos declarar un invocable con una cantidad arbitraria de argumentos, podemos utilizar la notación ...."
   ]
  },
  {
   "cell_type": "code",
   "execution_count": null,
   "metadata": {},
   "outputs": [],
   "source": [
    "from collections.abc import Callable\n",
    "\n",
    "def concatenar_listas(*args: list) -> list:\n",
    "    ys: list = []\n",
    "    for xs in args:\n",
    "        ys += xs\n",
    "    return ys\n",
    "\n",
    "def tratar_listas(*args: list, func: Callable[..., list]) -> list:\n",
    "    return func(*args)\n",
    "\n",
    "tratar_listas([1,2], [3,4], [5,6], func=concatenar_listas)  # [1, 2, 3, 4, 5, 6]\n",
    "tratar_listas([], func=concatenar_listas)   # []"
   ]
  },
  {
   "cell_type": "markdown",
   "metadata": {},
   "source": [
    "***Tuple***\n",
    "\n",
    "Cuando definimos el tipo tuple podemos especificar el tipo de dato de sus elementos uno a uno, o bien, utilizar la notación ... como segundo parámetro de tipo para indicar que puede tener una cantidad variable de elementos de cierto tipo de dato."
   ]
  },
  {
   "cell_type": "code",
   "execution_count": null,
   "metadata": {},
   "outputs": [],
   "source": [
    "t1: tuple[int, int] = (1, 2)                # ok\n",
    "t1 = (1, 'a')                               # error, el 2do elemento debe ser int\n",
    "t1 = (1,)                                   # error, falta 2do elemento int\n",
    "t2: tuple[str, int] = ('a', 3)              # ok\n",
    "t3: tuple = ('a', 2, 3, 1)                  # ok, tuple[Any, ...]\n",
    "t4: tuple[int, ...] = (1, 2, 3, 4, 5, 6)    # ok\n",
    "t4 = (1, 2)                                 # ok"
   ]
  },
  {
   "cell_type": "markdown",
   "metadata": {},
   "source": [
    "### **Generics**\n",
    "\n",
    "\n",
    "En Python no hay un soporte nativo para la definición de tipos genéricos como parte del lenguaje, aunque existen algunas convenciones que podemos utilizar para lograr resultados similares\n"
   ]
  },
  {
   "cell_type": "markdown",
   "metadata": {},
   "source": [
    "Una forma de proveer la seguridad que nos aportaban los tipos genéricos es a través de los type hints que proporcionan información sobre los tipos de datos que se esperan asociados a ciertas variables."
   ]
  },
  {
   "cell_type": "code",
   "execution_count": null,
   "metadata": {},
   "outputs": [],
   "source": [
    "from collections.abc import Iterator\n",
    "from typing import TypeVar, Generic\n",
    "\n",
    "T = TypeVar('T')\n",
    "\n",
    "class Contenedor(Generic[T]):\n",
    "    def __init__(self):\n",
    "        self.elementos: list[T] = []\n",
    "\n",
    "    def agregar(self, elemento: T):\n",
    "        self.elementos.append(elemento)\n",
    "\n",
    "    def __len__(self) -> int:\n",
    "        return len(self.elementos)\n",
    "    \n",
    "    def __iter__(self) -> Iterator[T]:\n",
    "        return self.elementos.__iter__()\n",
    "\n",
    "contenedor: Contenedor[int] = Contenedor()\n",
    "contenedor.agregar(1)\n",
    "contenedor.agregar(3)\n",
    "contenedor.agregar('a')     # error, porque contenedor es de tipo Contenedor[int]"
   ]
  },
  {
   "cell_type": "markdown",
   "metadata": {},
   "source": [
    "También podríamos limitar los tipos de datos aceptados por una variable. Simplemente se incorpora una expresión de tipo que refleje aquellos que son compatibles con la variable de tipo definida"
   ]
  },
  {
   "cell_type": "code",
   "execution_count": null,
   "metadata": {},
   "outputs": [],
   "source": [
    "from decimal import Decimal\n",
    "\n",
    "# 3.11 o inferior\n",
    "from typing import TypeAlias, Union, TypeVar, Generic\n",
    "Number: TypeAlias = Union[Decimal, float]\n",
    "T = TypeVar('T', bound=Number)\n",
    "class Contenedor(Generic[T]):\n",
    "    ..."
   ]
  }
 ],
 "metadata": {
  "kernelspec": {
   "display_name": "Python 3",
   "language": "python",
   "name": "python3"
  },
  "language_info": {
   "codemirror_mode": {
    "name": "ipython",
    "version": 3
   },
   "file_extension": ".py",
   "mimetype": "text/x-python",
   "name": "python",
   "nbconvert_exporter": "python",
   "pygments_lexer": "ipython3",
   "version": "3.11.0"
  }
 },
 "nbformat": 4,
 "nbformat_minor": 2
}
